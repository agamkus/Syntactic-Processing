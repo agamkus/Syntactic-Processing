{
 "cells": [
  {
   "cell_type": "markdown",
   "metadata": {},
   "source": [
    "## POS tagging using modified Viterbi"
   ]
  },
  {
   "cell_type": "markdown",
   "metadata": {},
   "source": [
    "### Data Preparation"
   ]
  },
  {
   "cell_type": "code",
   "execution_count": 1,
   "metadata": {},
   "outputs": [],
   "source": [
    "#Importing libraries\n",
    "import nltk\n",
    "import re \n",
    "import pprint\n",
    "import numpy as np\n",
    "import pandas as pd\n",
    "import requests\n",
    "import matplotlib.pyplot as plt\n",
    "from nltk.tokenize import word_tokenize\n",
    "import seaborn as sns\n",
    "import pprint, time\n",
    "import random\n",
    "from sklearn.model_selection import train_test_split"
   ]
  },
  {
   "cell_type": "markdown",
   "metadata": {},
   "source": [
    "##### Reading the Treebank Tagged Sentences:"
   ]
  },
  {
   "cell_type": "code",
   "execution_count": 2,
   "metadata": {},
   "outputs": [],
   "source": [
    "nltk_data = list(nltk.corpus.treebank.tagged_sents(tagset='universal'))"
   ]
  },
  {
   "cell_type": "code",
   "execution_count": 3,
   "metadata": {},
   "outputs": [
    {
     "data": {
      "text/plain": [
       "[[('Pierre', 'NOUN'),\n",
       "  ('Vinken', 'NOUN'),\n",
       "  (',', '.'),\n",
       "  ('61', 'NUM'),\n",
       "  ('years', 'NOUN'),\n",
       "  ('old', 'ADJ'),\n",
       "  (',', '.'),\n",
       "  ('will', 'VERB'),\n",
       "  ('join', 'VERB'),\n",
       "  ('the', 'DET'),\n",
       "  ('board', 'NOUN'),\n",
       "  ('as', 'ADP'),\n",
       "  ('a', 'DET'),\n",
       "  ('nonexecutive', 'ADJ'),\n",
       "  ('director', 'NOUN'),\n",
       "  ('Nov.', 'NOUN'),\n",
       "  ('29', 'NUM'),\n",
       "  ('.', '.')],\n",
       " [('Mr.', 'NOUN'),\n",
       "  ('Vinken', 'NOUN'),\n",
       "  ('is', 'VERB'),\n",
       "  ('chairman', 'NOUN'),\n",
       "  ('of', 'ADP'),\n",
       "  ('Elsevier', 'NOUN'),\n",
       "  ('N.V.', 'NOUN'),\n",
       "  (',', '.'),\n",
       "  ('the', 'DET'),\n",
       "  ('Dutch', 'NOUN'),\n",
       "  ('publishing', 'VERB'),\n",
       "  ('group', 'NOUN'),\n",
       "  ('.', '.')],\n",
       " [('Rudolph', 'NOUN'),\n",
       "  ('Agnew', 'NOUN'),\n",
       "  (',', '.'),\n",
       "  ('55', 'NUM'),\n",
       "  ('years', 'NOUN'),\n",
       "  ('old', 'ADJ'),\n",
       "  ('and', 'CONJ'),\n",
       "  ('former', 'ADJ'),\n",
       "  ('chairman', 'NOUN'),\n",
       "  ('of', 'ADP'),\n",
       "  ('Consolidated', 'NOUN'),\n",
       "  ('Gold', 'NOUN'),\n",
       "  ('Fields', 'NOUN'),\n",
       "  ('PLC', 'NOUN'),\n",
       "  (',', '.'),\n",
       "  ('was', 'VERB'),\n",
       "  ('named', 'VERB'),\n",
       "  ('*-1', 'X'),\n",
       "  ('a', 'DET'),\n",
       "  ('nonexecutive', 'ADJ'),\n",
       "  ('director', 'NOUN'),\n",
       "  ('of', 'ADP'),\n",
       "  ('this', 'DET'),\n",
       "  ('British', 'ADJ'),\n",
       "  ('industrial', 'ADJ'),\n",
       "  ('conglomerate', 'NOUN'),\n",
       "  ('.', '.')],\n",
       " [('A', 'DET'),\n",
       "  ('form', 'NOUN'),\n",
       "  ('of', 'ADP'),\n",
       "  ('asbestos', 'NOUN'),\n",
       "  ('once', 'ADV'),\n",
       "  ('used', 'VERB'),\n",
       "  ('*', 'X'),\n",
       "  ('*', 'X'),\n",
       "  ('to', 'PRT'),\n",
       "  ('make', 'VERB'),\n",
       "  ('Kent', 'NOUN'),\n",
       "  ('cigarette', 'NOUN'),\n",
       "  ('filters', 'NOUN'),\n",
       "  ('has', 'VERB'),\n",
       "  ('caused', 'VERB'),\n",
       "  ('a', 'DET'),\n",
       "  ('high', 'ADJ'),\n",
       "  ('percentage', 'NOUN'),\n",
       "  ('of', 'ADP'),\n",
       "  ('cancer', 'NOUN'),\n",
       "  ('deaths', 'NOUN'),\n",
       "  ('among', 'ADP'),\n",
       "  ('a', 'DET'),\n",
       "  ('group', 'NOUN'),\n",
       "  ('of', 'ADP'),\n",
       "  ('workers', 'NOUN'),\n",
       "  ('exposed', 'VERB'),\n",
       "  ('*', 'X'),\n",
       "  ('to', 'PRT'),\n",
       "  ('it', 'PRON'),\n",
       "  ('more', 'ADV'),\n",
       "  ('than', 'ADP'),\n",
       "  ('30', 'NUM'),\n",
       "  ('years', 'NOUN'),\n",
       "  ('ago', 'ADP'),\n",
       "  (',', '.'),\n",
       "  ('researchers', 'NOUN'),\n",
       "  ('reported', 'VERB'),\n",
       "  ('0', 'X'),\n",
       "  ('*T*-1', 'X'),\n",
       "  ('.', '.')],\n",
       " [('The', 'DET'),\n",
       "  ('asbestos', 'NOUN'),\n",
       "  ('fiber', 'NOUN'),\n",
       "  (',', '.'),\n",
       "  ('crocidolite', 'NOUN'),\n",
       "  (',', '.'),\n",
       "  ('is', 'VERB'),\n",
       "  ('unusually', 'ADV'),\n",
       "  ('resilient', 'ADJ'),\n",
       "  ('once', 'ADP'),\n",
       "  ('it', 'PRON'),\n",
       "  ('enters', 'VERB'),\n",
       "  ('the', 'DET'),\n",
       "  ('lungs', 'NOUN'),\n",
       "  (',', '.'),\n",
       "  ('with', 'ADP'),\n",
       "  ('even', 'ADV'),\n",
       "  ('brief', 'ADJ'),\n",
       "  ('exposures', 'NOUN'),\n",
       "  ('to', 'PRT'),\n",
       "  ('it', 'PRON'),\n",
       "  ('causing', 'VERB'),\n",
       "  ('symptoms', 'NOUN'),\n",
       "  ('that', 'DET'),\n",
       "  ('*T*-1', 'X'),\n",
       "  ('show', 'VERB'),\n",
       "  ('up', 'PRT'),\n",
       "  ('decades', 'NOUN'),\n",
       "  ('later', 'ADJ'),\n",
       "  (',', '.'),\n",
       "  ('researchers', 'NOUN'),\n",
       "  ('said', 'VERB'),\n",
       "  ('0', 'X'),\n",
       "  ('*T*-2', 'X'),\n",
       "  ('.', '.')],\n",
       " [('Lorillard', 'NOUN'),\n",
       "  ('Inc.', 'NOUN'),\n",
       "  (',', '.'),\n",
       "  ('the', 'DET'),\n",
       "  ('unit', 'NOUN'),\n",
       "  ('of', 'ADP'),\n",
       "  ('New', 'ADJ'),\n",
       "  ('York-based', 'ADJ'),\n",
       "  ('Loews', 'NOUN'),\n",
       "  ('Corp.', 'NOUN'),\n",
       "  ('that', 'DET'),\n",
       "  ('*T*-2', 'X'),\n",
       "  ('makes', 'VERB'),\n",
       "  ('Kent', 'NOUN'),\n",
       "  ('cigarettes', 'NOUN'),\n",
       "  (',', '.'),\n",
       "  ('stopped', 'VERB'),\n",
       "  ('using', 'VERB'),\n",
       "  ('crocidolite', 'NOUN'),\n",
       "  ('in', 'ADP'),\n",
       "  ('its', 'PRON'),\n",
       "  ('Micronite', 'NOUN'),\n",
       "  ('cigarette', 'NOUN'),\n",
       "  ('filters', 'NOUN'),\n",
       "  ('in', 'ADP'),\n",
       "  ('1956', 'NUM'),\n",
       "  ('.', '.')],\n",
       " [('Although', 'ADP'),\n",
       "  ('preliminary', 'ADJ'),\n",
       "  ('findings', 'NOUN'),\n",
       "  ('were', 'VERB'),\n",
       "  ('reported', 'VERB'),\n",
       "  ('*-2', 'X'),\n",
       "  ('more', 'ADV'),\n",
       "  ('than', 'ADP'),\n",
       "  ('a', 'DET'),\n",
       "  ('year', 'NOUN'),\n",
       "  ('ago', 'ADP'),\n",
       "  (',', '.'),\n",
       "  ('the', 'DET'),\n",
       "  ('latest', 'ADJ'),\n",
       "  ('results', 'NOUN'),\n",
       "  ('appear', 'VERB'),\n",
       "  ('in', 'ADP'),\n",
       "  ('today', 'NOUN'),\n",
       "  (\"'s\", 'PRT'),\n",
       "  ('New', 'NOUN'),\n",
       "  ('England', 'NOUN'),\n",
       "  ('Journal', 'NOUN'),\n",
       "  ('of', 'ADP'),\n",
       "  ('Medicine', 'NOUN'),\n",
       "  (',', '.'),\n",
       "  ('a', 'DET'),\n",
       "  ('forum', 'NOUN'),\n",
       "  ('likely', 'ADJ'),\n",
       "  ('*', 'X'),\n",
       "  ('to', 'PRT'),\n",
       "  ('bring', 'VERB'),\n",
       "  ('new', 'ADJ'),\n",
       "  ('attention', 'NOUN'),\n",
       "  ('to', 'PRT'),\n",
       "  ('the', 'DET'),\n",
       "  ('problem', 'NOUN'),\n",
       "  ('.', '.')],\n",
       " [('A', 'DET'),\n",
       "  ('Lorillard', 'NOUN'),\n",
       "  ('spokewoman', 'NOUN'),\n",
       "  ('said', 'VERB'),\n",
       "  (',', '.'),\n",
       "  ('``', '.'),\n",
       "  ('This', 'DET'),\n",
       "  ('is', 'VERB'),\n",
       "  ('an', 'DET'),\n",
       "  ('old', 'ADJ'),\n",
       "  ('story', 'NOUN'),\n",
       "  ('.', '.')],\n",
       " [('We', 'PRON'),\n",
       "  (\"'re\", 'VERB'),\n",
       "  ('talking', 'VERB'),\n",
       "  ('about', 'ADP'),\n",
       "  ('years', 'NOUN'),\n",
       "  ('ago', 'ADP'),\n",
       "  ('before', 'ADP'),\n",
       "  ('anyone', 'NOUN'),\n",
       "  ('heard', 'VERB'),\n",
       "  ('of', 'ADP'),\n",
       "  ('asbestos', 'NOUN'),\n",
       "  ('having', 'VERB'),\n",
       "  ('any', 'DET'),\n",
       "  ('questionable', 'ADJ'),\n",
       "  ('properties', 'NOUN'),\n",
       "  ('.', '.')],\n",
       " [('There', 'DET'),\n",
       "  ('is', 'VERB'),\n",
       "  ('no', 'DET'),\n",
       "  ('asbestos', 'NOUN'),\n",
       "  ('in', 'ADP'),\n",
       "  ('our', 'PRON'),\n",
       "  ('products', 'NOUN'),\n",
       "  ('now', 'ADV'),\n",
       "  ('.', '.'),\n",
       "  (\"''\", '.')],\n",
       " [('Neither', 'DET'),\n",
       "  ('Lorillard', 'NOUN'),\n",
       "  ('nor', 'CONJ'),\n",
       "  ('the', 'DET'),\n",
       "  ('researchers', 'NOUN'),\n",
       "  ('who', 'PRON'),\n",
       "  ('*T*-3', 'X'),\n",
       "  ('studied', 'VERB'),\n",
       "  ('the', 'DET'),\n",
       "  ('workers', 'NOUN'),\n",
       "  ('were', 'VERB'),\n",
       "  ('aware', 'ADJ'),\n",
       "  ('of', 'ADP'),\n",
       "  ('any', 'DET'),\n",
       "  ('research', 'NOUN'),\n",
       "  ('on', 'ADP'),\n",
       "  ('smokers', 'NOUN'),\n",
       "  ('of', 'ADP'),\n",
       "  ('the', 'DET'),\n",
       "  ('Kent', 'NOUN'),\n",
       "  ('cigarettes', 'NOUN'),\n",
       "  ('.', '.')],\n",
       " [('``', '.'),\n",
       "  ('We', 'PRON'),\n",
       "  ('have', 'VERB'),\n",
       "  ('no', 'DET'),\n",
       "  ('useful', 'ADJ'),\n",
       "  ('information', 'NOUN'),\n",
       "  ('on', 'ADP'),\n",
       "  ('whether', 'ADP'),\n",
       "  ('users', 'NOUN'),\n",
       "  ('are', 'VERB'),\n",
       "  ('at', 'ADP'),\n",
       "  ('risk', 'NOUN'),\n",
       "  (',', '.'),\n",
       "  (\"''\", '.'),\n",
       "  ('said', 'VERB'),\n",
       "  ('*T*-1', 'X'),\n",
       "  ('James', 'NOUN'),\n",
       "  ('A.', 'NOUN'),\n",
       "  ('Talcott', 'NOUN'),\n",
       "  ('of', 'ADP'),\n",
       "  ('Boston', 'NOUN'),\n",
       "  (\"'s\", 'PRT'),\n",
       "  ('Dana-Farber', 'NOUN'),\n",
       "  ('Cancer', 'NOUN'),\n",
       "  ('Institute', 'NOUN'),\n",
       "  ('.', '.')],\n",
       " [('Dr.', 'NOUN'),\n",
       "  ('Talcott', 'NOUN'),\n",
       "  ('led', 'VERB'),\n",
       "  ('a', 'DET'),\n",
       "  ('team', 'NOUN'),\n",
       "  ('of', 'ADP'),\n",
       "  ('researchers', 'NOUN'),\n",
       "  ('from', 'ADP'),\n",
       "  ('the', 'DET'),\n",
       "  ('National', 'NOUN'),\n",
       "  ('Cancer', 'NOUN'),\n",
       "  ('Institute', 'NOUN'),\n",
       "  ('and', 'CONJ'),\n",
       "  ('the', 'DET'),\n",
       "  ('medical', 'ADJ'),\n",
       "  ('schools', 'NOUN'),\n",
       "  ('of', 'ADP'),\n",
       "  ('Harvard', 'NOUN'),\n",
       "  ('University', 'NOUN'),\n",
       "  ('and', 'CONJ'),\n",
       "  ('Boston', 'NOUN'),\n",
       "  ('University', 'NOUN'),\n",
       "  ('.', '.')],\n",
       " [('The', 'DET'),\n",
       "  ('Lorillard', 'NOUN'),\n",
       "  ('spokeswoman', 'NOUN'),\n",
       "  ('said', 'VERB'),\n",
       "  ('0', 'X'),\n",
       "  ('asbestos', 'NOUN'),\n",
       "  ('was', 'VERB'),\n",
       "  ('used', 'VERB'),\n",
       "  ('*-1', 'X'),\n",
       "  ('in', 'ADP'),\n",
       "  ('``', '.'),\n",
       "  ('very', 'ADV'),\n",
       "  ('modest', 'ADJ'),\n",
       "  ('amounts', 'NOUN'),\n",
       "  (\"''\", '.'),\n",
       "  ('in', 'ADP'),\n",
       "  ('*', 'X'),\n",
       "  ('making', 'VERB'),\n",
       "  ('paper', 'NOUN'),\n",
       "  ('for', 'ADP'),\n",
       "  ('the', 'DET'),\n",
       "  ('filters', 'NOUN'),\n",
       "  ('in', 'ADP'),\n",
       "  ('the', 'DET'),\n",
       "  ('early', 'ADJ'),\n",
       "  ('1950s', 'NUM'),\n",
       "  ('and', 'CONJ'),\n",
       "  ('replaced', 'VERB'),\n",
       "  ('*-1', 'X'),\n",
       "  ('with', 'ADP'),\n",
       "  ('a', 'DET'),\n",
       "  ('different', 'ADJ'),\n",
       "  ('type', 'NOUN'),\n",
       "  ('of', 'ADP'),\n",
       "  ('filter', 'NOUN'),\n",
       "  ('in', 'ADP'),\n",
       "  ('1956', 'NUM'),\n",
       "  ('.', '.')],\n",
       " [('From', 'ADP'),\n",
       "  ('1953', 'NUM'),\n",
       "  ('to', 'PRT'),\n",
       "  ('1955', 'NUM'),\n",
       "  (',', '.'),\n",
       "  ('9.8', 'NUM'),\n",
       "  ('billion', 'NUM'),\n",
       "  ('Kent', 'NOUN'),\n",
       "  ('cigarettes', 'NOUN'),\n",
       "  ('with', 'ADP'),\n",
       "  ('the', 'DET'),\n",
       "  ('filters', 'NOUN'),\n",
       "  ('were', 'VERB'),\n",
       "  ('sold', 'VERB'),\n",
       "  ('*-3', 'X'),\n",
       "  (',', '.'),\n",
       "  ('the', 'DET'),\n",
       "  ('company', 'NOUN'),\n",
       "  ('said', 'VERB'),\n",
       "  ('0', 'X'),\n",
       "  ('*T*-1', 'X'),\n",
       "  ('.', '.')],\n",
       " [('Among', 'ADP'),\n",
       "  ('33', 'NUM'),\n",
       "  ('men', 'NOUN'),\n",
       "  ('who', 'PRON'),\n",
       "  ('*T*-4', 'X'),\n",
       "  ('worked', 'VERB'),\n",
       "  ('closely', 'ADV'),\n",
       "  ('with', 'ADP'),\n",
       "  ('the', 'DET'),\n",
       "  ('substance', 'NOUN'),\n",
       "  (',', '.'),\n",
       "  ('28', 'NUM'),\n",
       "  ('*ICH*-1', 'X'),\n",
       "  ('have', 'VERB'),\n",
       "  ('died', 'VERB'),\n",
       "  ('--', '.'),\n",
       "  ('more', 'ADJ'),\n",
       "  ('than', 'ADP'),\n",
       "  ('three', 'NUM'),\n",
       "  ('times', 'NOUN'),\n",
       "  ('the', 'DET'),\n",
       "  ('expected', 'VERB'),\n",
       "  ('number', 'NOUN'),\n",
       "  ('.', '.')],\n",
       " [('Four', 'NUM'),\n",
       "  ('of', 'ADP'),\n",
       "  ('the', 'DET'),\n",
       "  ('five', 'NUM'),\n",
       "  ('surviving', 'VERB'),\n",
       "  ('workers', 'NOUN'),\n",
       "  ('have', 'VERB'),\n",
       "  ('asbestos-related', 'ADJ'),\n",
       "  ('diseases', 'NOUN'),\n",
       "  (',', '.'),\n",
       "  ('including', 'VERB'),\n",
       "  ('three', 'NUM'),\n",
       "  ('with', 'ADP'),\n",
       "  ('recently', 'ADV'),\n",
       "  ('diagnosed', 'VERB'),\n",
       "  ('cancer', 'NOUN'),\n",
       "  ('.', '.')],\n",
       " [('The', 'DET'),\n",
       "  ('total', 'NOUN'),\n",
       "  ('of', 'ADP'),\n",
       "  ('18', 'NUM'),\n",
       "  ('deaths', 'NOUN'),\n",
       "  ('from', 'ADP'),\n",
       "  ('malignant', 'ADJ'),\n",
       "  ('mesothelioma', 'NOUN'),\n",
       "  (',', '.'),\n",
       "  ('lung', 'NOUN'),\n",
       "  ('cancer', 'NOUN'),\n",
       "  ('and', 'CONJ'),\n",
       "  ('asbestosis', 'NOUN'),\n",
       "  ('was', 'VERB'),\n",
       "  ('far', 'ADV'),\n",
       "  ('higher', 'ADJ'),\n",
       "  ('than', 'ADP'),\n",
       "  ('*', 'X'),\n",
       "  ('expected', 'VERB'),\n",
       "  ('*?*', 'X'),\n",
       "  (',', '.'),\n",
       "  ('the', 'DET'),\n",
       "  ('researchers', 'NOUN'),\n",
       "  ('said', 'VERB'),\n",
       "  ('0', 'X'),\n",
       "  ('*T*-1', 'X'),\n",
       "  ('.', '.')],\n",
       " [('``', '.'),\n",
       "  ('The', 'DET'),\n",
       "  ('morbidity', 'NOUN'),\n",
       "  ('rate', 'NOUN'),\n",
       "  ('is', 'VERB'),\n",
       "  ('a', 'DET'),\n",
       "  ('striking', 'ADJ'),\n",
       "  ('finding', 'NOUN'),\n",
       "  ('among', 'ADP'),\n",
       "  ('those', 'DET'),\n",
       "  ('of', 'ADP'),\n",
       "  ('us', 'PRON'),\n",
       "  ('who', 'PRON'),\n",
       "  ('*T*-5', 'X'),\n",
       "  ('study', 'VERB'),\n",
       "  ('asbestos-related', 'ADJ'),\n",
       "  ('diseases', 'NOUN'),\n",
       "  (',', '.'),\n",
       "  (\"''\", '.'),\n",
       "  ('said', 'VERB'),\n",
       "  ('*T*-1', 'X'),\n",
       "  ('Dr.', 'NOUN'),\n",
       "  ('Talcott', 'NOUN'),\n",
       "  ('.', '.')],\n",
       " [('The', 'DET'),\n",
       "  ('percentage', 'NOUN'),\n",
       "  ('of', 'ADP'),\n",
       "  ('lung', 'NOUN'),\n",
       "  ('cancer', 'NOUN'),\n",
       "  ('deaths', 'NOUN'),\n",
       "  ('among', 'ADP'),\n",
       "  ('the', 'DET'),\n",
       "  ('workers', 'NOUN'),\n",
       "  ('at', 'ADP'),\n",
       "  ('the', 'DET'),\n",
       "  ('West', 'NOUN'),\n",
       "  ('Groton', 'NOUN'),\n",
       "  (',', '.'),\n",
       "  ('Mass.', 'NOUN'),\n",
       "  (',', '.'),\n",
       "  ('paper', 'NOUN'),\n",
       "  ('factory', 'NOUN'),\n",
       "  ('appears', 'VERB'),\n",
       "  ('*-1', 'X'),\n",
       "  ('to', 'PRT'),\n",
       "  ('be', 'VERB'),\n",
       "  ('the', 'DET'),\n",
       "  ('highest', 'ADJ'),\n",
       "  ('for', 'ADP'),\n",
       "  ('any', 'DET'),\n",
       "  ('asbestos', 'NOUN'),\n",
       "  ('workers', 'NOUN'),\n",
       "  ('studied', 'VERB'),\n",
       "  ('*', 'X'),\n",
       "  ('in', 'ADP'),\n",
       "  ('Western', 'ADJ'),\n",
       "  ('industrialized', 'VERB'),\n",
       "  ('countries', 'NOUN'),\n",
       "  (',', '.'),\n",
       "  ('he', 'PRON'),\n",
       "  ('said', 'VERB'),\n",
       "  ('0', 'X'),\n",
       "  ('*T*-2', 'X'),\n",
       "  ('.', '.')]]"
      ]
     },
     "execution_count": 3,
     "metadata": {},
     "output_type": "execute_result"
    }
   ],
   "source": [
    "nltk_data[:20]"
   ]
  },
  {
   "cell_type": "markdown",
   "metadata": {},
   "source": [
    "##### Train Test Split:"
   ]
  },
  {
   "cell_type": "code",
   "execution_count": 4,
   "metadata": {},
   "outputs": [
    {
     "name": "stdout",
     "output_type": "stream",
     "text": [
      "Length of Training Set: 3718\n",
      "Length of Test Set:\n",
      "**************************************************\n",
      "Training Data:\n",
      "\n",
      "[[('This', 'DET'), ('year', 'NOUN'), (',', '.'), ('the', 'DET'), ('average', 'NOUN'), ('of', 'ADP'), ('daily', 'ADJ'), ('contracts', 'NOUN'), ('traded', 'VERB'), ('*', 'X'), ('totaled', 'VERB'), ('9,118', 'NUM'), (',', '.'), ('up', 'ADP'), ('from', 'ADP'), ('4,645', 'NUM'), ('a', 'DET'), ('year', 'NOUN'), ('earlier', 'ADJ'), ('and', 'CONJ'), ('from', 'ADP'), ('917', 'NUM'), ('in', 'ADP'), ('1984', 'NUM'), ('.', '.')], [('First', 'NOUN'), ('of', 'ADP'), ('America', 'NOUN'), (',', '.'), ('which', 'DET'), ('*T*-1', 'X'), ('now', 'ADV'), ('has', 'VERB'), ('45', 'NUM'), ('banks', 'NOUN'), ('and', 'CONJ'), ('$', '.'), ('12.5', 'NUM'), ('billion', 'NUM'), ('*U*', 'X'), ('in', 'ADP'), ('assets', 'NOUN'), (',', '.'), ('announced', 'VERB'), ('an', 'DET'), ('agreement', 'NOUN'), ('*', 'X'), ('to', 'PRT'), ('acquire', 'VERB'), ('the', 'DET'), ('Peoria', 'NOUN'), (',', '.'), ('Ill.', 'NOUN'), (',', '.'), ('bank', 'NOUN'), ('holding', 'VERB'), ('company', 'NOUN'), ('in', 'ADP'), ('January', 'NOUN'), ('.', '.')], [('Meanwhile', 'ADV'), (',', '.'), ('traders', 'NOUN'), ('in', 'ADP'), ('Tokyo', 'NOUN'), ('say', 'VERB'), ('that', 'ADP'), ('the', 'DET'), ('prospect', 'NOUN'), ('of', 'ADP'), ('lower', 'ADJ'), ('U.S.', 'NOUN'), ('interest', 'NOUN'), ('rates', 'NOUN'), ('has', 'VERB'), ('spurred', 'VERB'), ('dollar', 'NOUN'), ('buying', 'VERB'), ('by', 'ADP'), ('Japanese', 'ADJ'), ('institutions', 'NOUN'), ('.', '.')], [('Although', 'ADP'), ('she', 'PRON'), ('was', 'VERB'), ('kind', 'ADJ'), ('and', 'CONJ'), ('playful', 'ADJ'), ('to', 'PRT'), ('her', 'PRON'), ('children', 'NOUN'), (',', '.'), ('she', 'PRON'), ('was', 'VERB'), ('dreadful', 'ADJ'), ('to', 'PRT'), ('her', 'PRON'), ('war-damaged', 'ADJ'), ('husband', 'NOUN'), (';', '.'), ('she', 'PRON'), ('openly', 'ADV'), ('brought', 'VERB'), ('her', 'PRON'), ('lover', 'NOUN'), ('into', 'ADP'), ('their', 'PRON'), ('home', 'NOUN'), ('.', '.')], [('Mr.', 'NOUN'), ('Sidak', 'NOUN'), ('served', 'VERB'), ('as', 'ADP'), ('an', 'DET'), ('attorney', 'NOUN'), ('in', 'ADP'), ('the', 'DET'), ('Reagan', 'NOUN'), ('administration', 'NOUN'), ('.', '.')], [('And', 'CONJ'), ('because', 'ADP'), ('of', 'ADP'), ('the', 'DET'), ('time', 'NOUN'), ('difference', 'NOUN'), (',', '.'), ('the', 'DET'), ('Japanese', 'ADJ'), ('*RNR*-1', 'X'), ('and', 'CONJ'), ('the', 'DET'), ('U.S.', 'NOUN'), ('*RNR*-1', 'X'), ('markets', 'NOUN'), (\"'\", 'PRT'), ('trading', 'NOUN'), ('hours', 'NOUN'), ('do', 'VERB'), (\"n't\", 'ADV'), ('overlap', 'VERB'), ('.', '.')], [('The', 'DET'), ('record', 'NOUN'), ('corn-buying', 'ADJ'), ('binge', 'NOUN'), ('by', 'ADP'), ('the', 'DET'), ('Soviet', 'NOUN'), ('Union', 'NOUN'), ('is', 'VERB'), ('causing', 'VERB'), ('serious', 'ADJ'), ('bottlenecks', 'NOUN'), ('in', 'ADP'), ('the', 'DET'), ('U.S.', 'NOUN'), ('grain', 'NOUN'), ('pipeline', 'NOUN'), ('.', '.')], [('Neither', 'DET'), ('they', 'PRON'), ('nor', 'CONJ'), ('Mr.', 'NOUN'), ('McAlpine', 'NOUN'), ('could', 'VERB'), ('be', 'VERB'), ('reached', 'VERB'), ('*-38', 'X'), ('for', 'ADP'), ('comment', 'NOUN'), ('.', '.')], [('I', 'PRON'), ('was', 'VERB'), ('dumbfounded', 'ADJ'), (',', '.'), (\"''\", '.'), ('Mrs.', 'NOUN'), ('Ward', 'NOUN'), ('recalls', 'VERB'), ('*T*-1', 'X'), ('.', '.')], [('Santa', 'NOUN'), ('Fe', 'NOUN'), ('Pacific', 'NOUN'), ('dropped', 'VERB'), ('1', 'NUM'), ('1\\\\/8', 'NUM'), ('to', 'PRT'), ('17', 'NUM'), ('3\\\\/4', 'NUM'), ('.', '.')], [('The', 'DET'), ('senior', 'NOUN'), ('of', 'ADP'), ('the', 'DET'), ('three', 'NUM'), ('executives', 'NOUN'), ('who', 'PRON'), ('*T*-1', 'X'), ('will', 'VERB'), ('assume', 'VERB'), ('Mr.', 'NOUN'), ('Reupke', 'NOUN'), (\"'s\", 'PRT'), ('duties', 'NOUN'), ('is', 'VERB'), ('Nigel', 'NOUN'), ('Judah', 'NOUN'), (',', '.'), ('58', 'NUM'), (',', '.'), ('finance', 'NOUN'), ('director', 'NOUN'), ('and', 'CONJ'), ('a', 'DET'), ('Reuters', 'NOUN'), ('board', 'NOUN'), ('director', 'NOUN'), ('.', '.')], [('Such', 'ADJ'), ('problems', 'NOUN'), ('will', 'VERB'), ('require', 'VERB'), ('considerable', 'ADJ'), ('skill', 'NOUN'), ('*', 'X'), ('to', 'PRT'), ('resolve', 'VERB'), ('.', '.')], [('That', 'DET'), (\"'s\", 'VERB'), ('why', 'ADV'), ('Columbia', 'NOUN'), ('just', 'ADV'), ('wrote', 'VERB'), ('off', 'PRT'), ('$', '.'), ('130', 'NUM'), ('million', 'NUM'), ('*U*', 'X'), ('of', 'ADP'), ('its', 'PRON'), ('junk', 'NOUN'), ('and', 'CONJ'), ('reserved', 'VERB'), ('$', '.'), ('227', 'NUM'), ('million', 'NUM'), ('*U*', 'X'), ('for', 'ADP'), ('future', 'ADJ'), ('junk', 'NOUN'), ('losses', 'NOUN'), ('*T*-1', 'X'), ('.', '.')], [('Magna', 'NOUN'), ('International', 'NOUN'), ('Inc.', 'NOUN'), (\"'s\", 'PRT'), ('chief', 'ADJ'), ('financial', 'ADJ'), ('officer', 'NOUN'), (',', '.'), ('James', 'NOUN'), ('McAlpine', 'NOUN'), (',', '.'), ('resigned', 'ADJ'), ('and', 'CONJ'), ('its', 'PRON'), ('chairman', 'NOUN'), (',', '.'), ('Frank', 'NOUN'), ('Stronach', 'NOUN'), (',', '.'), ('is', 'VERB'), ('stepping', 'VERB'), ('in', 'ADV'), ('*-1', 'X'), ('to', 'PRT'), ('help', 'VERB'), ('turn', 'VERB'), ('the', 'DET'), ('automotive-parts', 'ADJ'), ('manufacturer', 'NOUN'), ('around', 'ADV'), (',', '.'), ('the', 'DET'), ('company', 'NOUN'), ('said', 'VERB'), ('0', 'X'), ('*T*-2', 'X'), ('.', '.')], [('Mr.', 'NOUN'), ('Oxnard', 'NOUN'), ('observed', 'VERB'), ('that', 'ADP'), ('the', 'DET'), ('situation', 'NOUN'), ('in', 'ADP'), ('Brazil', 'NOUN'), ('is', 'VERB'), ('also', 'ADV'), ('very', 'ADV'), ('complicated', 'VERB'), ('.', '.')], [('Few', 'ADJ'), ('people', 'NOUN'), ('think', 'VERB'), ('0', 'X'), ('Mr.', 'NOUN'), ('Spiegel', 'NOUN'), ('wants', 'VERB'), ('*-1', 'X'), ('to', 'PRT'), ('run', 'VERB'), ('a', 'DET'), ('bread-and-butter', 'ADJ'), ('thrift', 'NOUN'), (',', '.'), ('which', 'DET'), ('current', 'ADJ'), ('rules', 'NOUN'), ('would', 'VERB'), ('force', 'VERB'), ('Columbia', 'NOUN'), ('to', 'PRT'), ('become', 'VERB'), ('*T*-2', 'X'), ('.', '.')], [('ASLACTON', 'NOUN'), (',', '.'), ('England', 'NOUN')], [('During', 'ADP'), ('Mr.', 'NOUN'), ('McGovern', 'NOUN'), (\"'s\", 'PRT'), ('nine-year', 'ADJ'), ('term', 'NOUN'), ('as', 'ADP'), ('president', 'NOUN'), (',', '.'), ('the', 'DET'), ('company', 'NOUN'), (\"'s\", 'PRT'), ('sales', 'NOUN'), ('rose', 'VERB'), ('to', 'PRT'), ('$', '.'), ('5.7', 'NUM'), ('billion', 'NUM'), ('*U*', 'X'), ('from', 'ADP'), ('$', '.'), ('2.8', 'NUM'), ('billion', 'NUM'), ('*U*', 'X'), ('and', 'CONJ'), ('net', 'ADJ'), ('income', 'NOUN'), ('increased', 'VERB'), ('to', 'PRT'), ('$', '.'), ('274', 'NUM'), ('million', 'NUM'), ('*U*', 'X'), ('from', 'ADP'), ('$', '.'), ('130', 'NUM'), ('million', 'NUM'), ('*U*', 'X'), (',', '.'), ('the', 'DET'), ('statement', 'NOUN'), ('said', 'VERB'), ('0', 'X'), ('*T*-1', 'X'), ('.', '.')], [('Despite', 'ADP'), ('recent', 'ADJ'), ('declines', 'NOUN'), ('in', 'ADP'), ('yields', 'NOUN'), (',', '.'), ('investors', 'NOUN'), ('continue', 'VERB'), ('*-1', 'X'), ('to', 'PRT'), ('pour', 'VERB'), ('cash', 'NOUN'), ('into', 'ADP'), ('money', 'NOUN'), ('funds', 'NOUN'), ('.', '.')], [('*-1', 'X'), ('To', 'PRT'), ('profit', 'VERB'), ('from', 'ADP'), ('an', 'DET'), ('index-arbitrage', 'ADJ'), ('opportunity', 'NOUN'), (',', '.'), ('someone', 'NOUN'), ('who', 'PRON'), ('*T*-75', 'X'), ('owns', 'VERB'), ('the', 'DET'), ('S&P', 'NOUN'), ('500', 'NUM'), ('widget', 'NOUN'), ('in', 'ADP'), ('New', 'NOUN'), ('York', 'NOUN'), ('must', 'VERB'), ('sell', 'VERB'), ('it', 'PRON'), ('and', 'CONJ'), ('replace', 'VERB'), ('it', 'PRON'), ('with', 'ADP'), ('a', 'DET'), ('cheaper', 'ADJ'), ('S&P', 'NOUN'), ('500', 'NUM'), ('widget', 'NOUN'), ('in', 'ADP'), ('Chicago', 'NOUN'), ('.', '.')]]\n"
     ]
    }
   ],
   "source": [
    "train_set, test_set = train_test_split(nltk_data, train_size=0.95, test_size=0.05, random_state = 1234)\n",
    "\n",
    "print(\"Length of Training Set: {}\".format(len(train_set)))\n",
    "print(\"Length of Test Set:\".format(len(test_set)))\n",
    "print(\"*\"*50)\n",
    "print(\"Training Data:\\n\")\n",
    "print(train_set[:20])"
   ]
  },
  {
   "cell_type": "markdown",
   "metadata": {},
   "source": [
    "##### Finding the list of train and test tagged words:"
   ]
  },
  {
   "cell_type": "code",
   "execution_count": 5,
   "metadata": {
    "scrolled": true
   },
   "outputs": [
    {
     "name": "stdout",
     "output_type": "stream",
     "text": [
      "Train Tagged Words Length: 95799\n",
      "Test Tagged Words Length: 4877\n"
     ]
    }
   ],
   "source": [
    "train_tagged_words = [tup for sent in train_set for tup in sent]\n",
    "print(\"Train Tagged Words Length: {}\".format(len(train_tagged_words)))\n",
    "\n",
    "test_tagged_words = [tup[0] for sent in test_set for tup in sent]\n",
    "print(\"Test Tagged Words Length: {}\".format(len(test_tagged_words)))"
   ]
  },
  {
   "cell_type": "code",
   "execution_count": 6,
   "metadata": {},
   "outputs": [
    {
     "data": {
      "text/plain": [
       "[('This', 'DET'),\n",
       " ('year', 'NOUN'),\n",
       " (',', '.'),\n",
       " ('the', 'DET'),\n",
       " ('average', 'NOUN'),\n",
       " ('of', 'ADP'),\n",
       " ('daily', 'ADJ'),\n",
       " ('contracts', 'NOUN'),\n",
       " ('traded', 'VERB'),\n",
       " ('*', 'X')]"
      ]
     },
     "execution_count": 6,
     "metadata": {},
     "output_type": "execute_result"
    }
   ],
   "source": [
    "train_tagged_words[:10]"
   ]
  },
  {
   "cell_type": "markdown",
   "metadata": {},
   "source": [
    "##### Finding `tokens` from the train tagged words:"
   ]
  },
  {
   "cell_type": "code",
   "execution_count": 7,
   "metadata": {},
   "outputs": [
    {
     "data": {
      "text/plain": [
       "['This',\n",
       " 'year',\n",
       " ',',\n",
       " 'the',\n",
       " 'average',\n",
       " 'of',\n",
       " 'daily',\n",
       " 'contracts',\n",
       " 'traded',\n",
       " '*']"
      ]
     },
     "execution_count": 7,
     "metadata": {},
     "output_type": "execute_result"
    }
   ],
   "source": [
    "train_tokens = [pair[0] for pair in train_tagged_words]\n",
    "train_tokens[:10]"
   ]
  },
  {
   "cell_type": "markdown",
   "metadata": {},
   "source": [
    "##### Getting POS tags for the tokens in the train_tagged_words"
   ]
  },
  {
   "cell_type": "code",
   "execution_count": 8,
   "metadata": {},
   "outputs": [
    {
     "data": {
      "text/plain": [
       "['DET', 'NOUN', '.', 'DET', 'NOUN', 'ADP', 'ADJ', 'NOUN', 'VERB', 'X']"
      ]
     },
     "execution_count": 8,
     "metadata": {},
     "output_type": "execute_result"
    }
   ],
   "source": [
    "train_pos_tokens = [tag[1] for tag in train_tagged_words]\n",
    "train_pos_tokens[:10]"
   ]
  },
  {
   "cell_type": "markdown",
   "metadata": {},
   "source": [
    "##### Getting Vocabulary:"
   ]
  },
  {
   "cell_type": "code",
   "execution_count": 9,
   "metadata": {},
   "outputs": [
    {
     "name": "stdout",
     "output_type": "stream",
     "text": [
      "Number of words in Vocabulary: 12073\n"
     ]
    }
   ],
   "source": [
    "V = set(train_tokens)\n",
    "print(\"Number of words in Vocabulary: {}\".format(len(V)))"
   ]
  },
  {
   "cell_type": "markdown",
   "metadata": {},
   "source": [
    "##### Getting unique number of tags:"
   ]
  },
  {
   "cell_type": "code",
   "execution_count": 10,
   "metadata": {},
   "outputs": [
    {
     "name": "stdout",
     "output_type": "stream",
     "text": [
      "12\n",
      "{'DET', 'VERB', 'ADV', 'NOUN', 'NUM', 'CONJ', 'PRT', 'X', 'ADP', 'ADJ', '.', 'PRON'}\n"
     ]
    }
   ],
   "source": [
    "T = set([pair[1] for pair in train_tagged_words])\n",
    "print(len(T))\n",
    "print(T)"
   ]
  },
  {
   "cell_type": "markdown",
   "metadata": {},
   "source": [
    "### Build the vanilla Viterbi based POS tagger"
   ]
  },
  {
   "cell_type": "markdown",
   "metadata": {},
   "source": [
    "##### Calculating the probability of a word given a tag, P(w|t) and storing the records in a matrix:"
   ]
  },
  {
   "cell_type": "code",
   "execution_count": 11,
   "metadata": {},
   "outputs": [],
   "source": [
    "t = len(T)\n",
    "v = len(V)\n",
    "w_given_t = np.zeros((t, v))"
   ]
  },
  {
   "cell_type": "code",
   "execution_count": 12,
   "metadata": {},
   "outputs": [
    {
     "data": {
      "text/plain": [
       "(12, 12073)"
      ]
     },
     "execution_count": 12,
     "metadata": {},
     "output_type": "execute_result"
    }
   ],
   "source": [
    "w_given_t.shape"
   ]
  },
  {
   "cell_type": "markdown",
   "metadata": {},
   "source": [
    "##### Computing Emission Probability; i.e. Word given tag:"
   ]
  },
  {
   "cell_type": "code",
   "execution_count": 13,
   "metadata": {},
   "outputs": [],
   "source": [
    "def word_given_tag(word, tag, train_bag = train_tagged_words):\n",
    "    tag_list = [pair for pair in train_bag if pair[1]==tag]\n",
    "    count_tag = len(tag_list)\n",
    "    w_given_tag_list = [pair[0] for pair in tag_list if pair[0]==word]\n",
    "    count_w_given_tag = len(w_given_tag_list)\n",
    "    \n",
    "    return (count_w_given_tag, count_tag)"
   ]
  },
  {
   "cell_type": "markdown",
   "metadata": {},
   "source": [
    "##### Computing Transition Probability; i.e. tag2(t2) given tag1 (t1):"
   ]
  },
  {
   "cell_type": "code",
   "execution_count": 14,
   "metadata": {},
   "outputs": [],
   "source": [
    "def t2_given_t1(t2, t1, train_bag = train_tagged_words):\n",
    "    tags = [pair[1] for pair in train_bag]\n",
    "    count_t1 = len([t for t in tags if t==t1])\n",
    "    count_t2_t1 = 0\n",
    "    for index in range(len(tags)-1):\n",
    "        if tags[index]==t1 and tags[index+1] == t2:\n",
    "            count_t2_t1 += 1\n",
    "    return (count_t2_t1, count_t1)"
   ]
  },
  {
   "cell_type": "markdown",
   "metadata": {},
   "source": [
    "##### Getting matrix of tags:"
   ]
  },
  {
   "cell_type": "code",
   "execution_count": 15,
   "metadata": {},
   "outputs": [
    {
     "data": {
      "text/plain": [
       "array([[5.44201257e-03, 3.95452902e-02, 1.26980292e-02, 6.38650358e-01,\n",
       "        2.23727170e-02, 4.83734417e-04, 2.41867208e-04, 4.61966395e-02,\n",
       "        9.19095427e-03, 2.03652188e-01, 1.77772399e-02, 3.74894193e-03],\n",
       "       [1.33617356e-01, 1.67622000e-01, 8.35011601e-02, 1.10844307e-01,\n",
       "        2.26955842e-02, 5.57707204e-03, 3.12161110e-02, 2.17815652e-01,\n",
       "        9.14020166e-02, 6.52207583e-02, 3.51665393e-02, 3.53214554e-02],\n",
       "       [6.84796870e-02, 3.44364345e-01, 8.12581927e-02, 3.11271306e-02,\n",
       "        3.14547829e-02, 6.88073412e-03, 1.47444298e-02, 2.32634339e-02,\n",
       "        1.18610747e-01, 1.29750982e-01, 1.34665787e-01, 1.53997382e-02],\n",
       "       [1.32503370e-02, 1.46336138e-01, 1.71817560e-02, 2.64897525e-01,\n",
       "        9.53732990e-03, 4.22627516e-02, 4.39736433e-02, 2.92308256e-02,\n",
       "        1.77023038e-01, 1.22310799e-02, 2.39306912e-01, 4.76866495e-03],\n",
       "       [2.97265151e-03, 1.81331746e-02, 2.97265151e-03, 3.54637325e-01,\n",
       "        1.84898928e-01, 1.33769326e-02, 2.70511303e-02, 2.10463732e-01,\n",
       "        3.56718190e-02, 3.24019007e-02, 1.15933411e-01, 1.48632575e-03],\n",
       "       [1.18470147e-01, 1.58582091e-01, 5.59701510e-02, 3.48880589e-01,\n",
       "        4.15111929e-02, 4.66417900e-04, 5.13059692e-03, 8.86194035e-03,\n",
       "        5.27052246e-02, 1.18936568e-01, 3.31156701e-02, 5.73694035e-02],\n",
       "       [9.96742696e-02, 4.02931601e-01, 9.77198686e-03, 2.47882739e-01,\n",
       "        5.66775240e-02, 2.28013028e-03, 1.95439742e-03, 1.40065150e-02,\n",
       "        2.11726390e-02, 8.40390846e-02, 4.16938104e-02, 1.79153103e-02],\n",
       "       [5.41139245e-02, 2.04113930e-01, 2.61075944e-02, 6.21835440e-02,\n",
       "        2.68987333e-03, 1.07594933e-02, 1.84651896e-01, 7.48417750e-02,\n",
       "        1.44936711e-01, 1.64556969e-02, 1.62816450e-01, 5.63291125e-02],\n",
       "       [3.22893351e-01, 8.52242485e-03, 1.38489399e-02, 3.22893351e-01,\n",
       "        6.20006397e-02, 9.58772784e-04, 1.49142428e-03, 3.50484699e-02,\n",
       "        1.65121984e-02, 1.05784595e-01, 3.98423336e-02, 7.02034757e-02],\n",
       "       [4.94804559e-03, 1.22051788e-02, 4.94804559e-03, 6.98499084e-01,\n",
       "        2.11116616e-02, 1.66584197e-02, 1.08857006e-02, 2.14415304e-02,\n",
       "        7.75193796e-02, 6.53142035e-02, 6.58090040e-02, 6.59739424e-04],\n",
       "       [1.73225522e-01, 8.87690932e-02, 5.19317165e-02, 2.23090753e-01,\n",
       "        8.05929899e-02, 5.77717870e-02, 2.33602873e-03, 2.73135677e-02,\n",
       "        9.03863460e-02, 4.46540862e-02, 9.40700844e-02, 6.57681972e-02],\n",
       "       [9.16380342e-03, 4.87972498e-01, 3.28369625e-02, 2.07331046e-01,\n",
       "        7.25467736e-03, 4.58190171e-03, 1.18365791e-02, 9.39289778e-02,\n",
       "        2.32913326e-02, 7.36922473e-02, 4.04734649e-02, 7.63650239e-03]],\n",
       "      dtype=float32)"
      ]
     },
     "execution_count": 15,
     "metadata": {},
     "output_type": "execute_result"
    }
   ],
   "source": [
    "tags_matrix = np.zeros((len(T), len(T)), dtype='float32')\n",
    "for i, t1 in enumerate(list(T)):\n",
    "    for j, t2 in enumerate(list(T)): \n",
    "        tags_matrix[i, j] = t2_given_t1(t2, t1)[0]/t2_given_t1(t2, t1)[1]\n",
    "\n",
    "tags_matrix"
   ]
  },
  {
   "cell_type": "markdown",
   "metadata": {},
   "source": [
    "##### Converting the above matrix to a DataFrame for better look:"
   ]
  },
  {
   "cell_type": "code",
   "execution_count": 16,
   "metadata": {},
   "outputs": [
    {
     "data": {
      "text/html": [
       "<div>\n",
       "<style scoped>\n",
       "    .dataframe tbody tr th:only-of-type {\n",
       "        vertical-align: middle;\n",
       "    }\n",
       "\n",
       "    .dataframe tbody tr th {\n",
       "        vertical-align: top;\n",
       "    }\n",
       "\n",
       "    .dataframe thead th {\n",
       "        text-align: right;\n",
       "    }\n",
       "</style>\n",
       "<table border=\"1\" class=\"dataframe\">\n",
       "  <thead>\n",
       "    <tr style=\"text-align: right;\">\n",
       "      <th></th>\n",
       "      <th>DET</th>\n",
       "      <th>VERB</th>\n",
       "      <th>ADV</th>\n",
       "      <th>NOUN</th>\n",
       "      <th>NUM</th>\n",
       "      <th>CONJ</th>\n",
       "      <th>PRT</th>\n",
       "      <th>X</th>\n",
       "      <th>ADP</th>\n",
       "      <th>ADJ</th>\n",
       "      <th>.</th>\n",
       "      <th>PRON</th>\n",
       "    </tr>\n",
       "  </thead>\n",
       "  <tbody>\n",
       "    <tr>\n",
       "      <th>DET</th>\n",
       "      <td>0.005442</td>\n",
       "      <td>0.039545</td>\n",
       "      <td>0.012698</td>\n",
       "      <td>0.638650</td>\n",
       "      <td>0.022373</td>\n",
       "      <td>0.000484</td>\n",
       "      <td>0.000242</td>\n",
       "      <td>0.046197</td>\n",
       "      <td>0.009191</td>\n",
       "      <td>0.203652</td>\n",
       "      <td>0.017777</td>\n",
       "      <td>0.003749</td>\n",
       "    </tr>\n",
       "    <tr>\n",
       "      <th>VERB</th>\n",
       "      <td>0.133617</td>\n",
       "      <td>0.167622</td>\n",
       "      <td>0.083501</td>\n",
       "      <td>0.110844</td>\n",
       "      <td>0.022696</td>\n",
       "      <td>0.005577</td>\n",
       "      <td>0.031216</td>\n",
       "      <td>0.217816</td>\n",
       "      <td>0.091402</td>\n",
       "      <td>0.065221</td>\n",
       "      <td>0.035167</td>\n",
       "      <td>0.035321</td>\n",
       "    </tr>\n",
       "    <tr>\n",
       "      <th>ADV</th>\n",
       "      <td>0.068480</td>\n",
       "      <td>0.344364</td>\n",
       "      <td>0.081258</td>\n",
       "      <td>0.031127</td>\n",
       "      <td>0.031455</td>\n",
       "      <td>0.006881</td>\n",
       "      <td>0.014744</td>\n",
       "      <td>0.023263</td>\n",
       "      <td>0.118611</td>\n",
       "      <td>0.129751</td>\n",
       "      <td>0.134666</td>\n",
       "      <td>0.015400</td>\n",
       "    </tr>\n",
       "    <tr>\n",
       "      <th>NOUN</th>\n",
       "      <td>0.013250</td>\n",
       "      <td>0.146336</td>\n",
       "      <td>0.017182</td>\n",
       "      <td>0.264898</td>\n",
       "      <td>0.009537</td>\n",
       "      <td>0.042263</td>\n",
       "      <td>0.043974</td>\n",
       "      <td>0.029231</td>\n",
       "      <td>0.177023</td>\n",
       "      <td>0.012231</td>\n",
       "      <td>0.239307</td>\n",
       "      <td>0.004769</td>\n",
       "    </tr>\n",
       "    <tr>\n",
       "      <th>NUM</th>\n",
       "      <td>0.002973</td>\n",
       "      <td>0.018133</td>\n",
       "      <td>0.002973</td>\n",
       "      <td>0.354637</td>\n",
       "      <td>0.184899</td>\n",
       "      <td>0.013377</td>\n",
       "      <td>0.027051</td>\n",
       "      <td>0.210464</td>\n",
       "      <td>0.035672</td>\n",
       "      <td>0.032402</td>\n",
       "      <td>0.115933</td>\n",
       "      <td>0.001486</td>\n",
       "    </tr>\n",
       "    <tr>\n",
       "      <th>CONJ</th>\n",
       "      <td>0.118470</td>\n",
       "      <td>0.158582</td>\n",
       "      <td>0.055970</td>\n",
       "      <td>0.348881</td>\n",
       "      <td>0.041511</td>\n",
       "      <td>0.000466</td>\n",
       "      <td>0.005131</td>\n",
       "      <td>0.008862</td>\n",
       "      <td>0.052705</td>\n",
       "      <td>0.118937</td>\n",
       "      <td>0.033116</td>\n",
       "      <td>0.057369</td>\n",
       "    </tr>\n",
       "    <tr>\n",
       "      <th>PRT</th>\n",
       "      <td>0.099674</td>\n",
       "      <td>0.402932</td>\n",
       "      <td>0.009772</td>\n",
       "      <td>0.247883</td>\n",
       "      <td>0.056678</td>\n",
       "      <td>0.002280</td>\n",
       "      <td>0.001954</td>\n",
       "      <td>0.014007</td>\n",
       "      <td>0.021173</td>\n",
       "      <td>0.084039</td>\n",
       "      <td>0.041694</td>\n",
       "      <td>0.017915</td>\n",
       "    </tr>\n",
       "    <tr>\n",
       "      <th>X</th>\n",
       "      <td>0.054114</td>\n",
       "      <td>0.204114</td>\n",
       "      <td>0.026108</td>\n",
       "      <td>0.062184</td>\n",
       "      <td>0.002690</td>\n",
       "      <td>0.010759</td>\n",
       "      <td>0.184652</td>\n",
       "      <td>0.074842</td>\n",
       "      <td>0.144937</td>\n",
       "      <td>0.016456</td>\n",
       "      <td>0.162816</td>\n",
       "      <td>0.056329</td>\n",
       "    </tr>\n",
       "    <tr>\n",
       "      <th>ADP</th>\n",
       "      <td>0.322893</td>\n",
       "      <td>0.008522</td>\n",
       "      <td>0.013849</td>\n",
       "      <td>0.322893</td>\n",
       "      <td>0.062001</td>\n",
       "      <td>0.000959</td>\n",
       "      <td>0.001491</td>\n",
       "      <td>0.035048</td>\n",
       "      <td>0.016512</td>\n",
       "      <td>0.105785</td>\n",
       "      <td>0.039842</td>\n",
       "      <td>0.070203</td>\n",
       "    </tr>\n",
       "    <tr>\n",
       "      <th>ADJ</th>\n",
       "      <td>0.004948</td>\n",
       "      <td>0.012205</td>\n",
       "      <td>0.004948</td>\n",
       "      <td>0.698499</td>\n",
       "      <td>0.021112</td>\n",
       "      <td>0.016658</td>\n",
       "      <td>0.010886</td>\n",
       "      <td>0.021442</td>\n",
       "      <td>0.077519</td>\n",
       "      <td>0.065314</td>\n",
       "      <td>0.065809</td>\n",
       "      <td>0.000660</td>\n",
       "    </tr>\n",
       "    <tr>\n",
       "      <th>.</th>\n",
       "      <td>0.173226</td>\n",
       "      <td>0.088769</td>\n",
       "      <td>0.051932</td>\n",
       "      <td>0.223091</td>\n",
       "      <td>0.080593</td>\n",
       "      <td>0.057772</td>\n",
       "      <td>0.002336</td>\n",
       "      <td>0.027314</td>\n",
       "      <td>0.090386</td>\n",
       "      <td>0.044654</td>\n",
       "      <td>0.094070</td>\n",
       "      <td>0.065768</td>\n",
       "    </tr>\n",
       "    <tr>\n",
       "      <th>PRON</th>\n",
       "      <td>0.009164</td>\n",
       "      <td>0.487972</td>\n",
       "      <td>0.032837</td>\n",
       "      <td>0.207331</td>\n",
       "      <td>0.007255</td>\n",
       "      <td>0.004582</td>\n",
       "      <td>0.011837</td>\n",
       "      <td>0.093929</td>\n",
       "      <td>0.023291</td>\n",
       "      <td>0.073692</td>\n",
       "      <td>0.040473</td>\n",
       "      <td>0.007637</td>\n",
       "    </tr>\n",
       "  </tbody>\n",
       "</table>\n",
       "</div>"
      ],
      "text/plain": [
       "           DET      VERB       ADV      NOUN       NUM      CONJ       PRT  \\\n",
       "DET   0.005442  0.039545  0.012698  0.638650  0.022373  0.000484  0.000242   \n",
       "VERB  0.133617  0.167622  0.083501  0.110844  0.022696  0.005577  0.031216   \n",
       "ADV   0.068480  0.344364  0.081258  0.031127  0.031455  0.006881  0.014744   \n",
       "NOUN  0.013250  0.146336  0.017182  0.264898  0.009537  0.042263  0.043974   \n",
       "NUM   0.002973  0.018133  0.002973  0.354637  0.184899  0.013377  0.027051   \n",
       "CONJ  0.118470  0.158582  0.055970  0.348881  0.041511  0.000466  0.005131   \n",
       "PRT   0.099674  0.402932  0.009772  0.247883  0.056678  0.002280  0.001954   \n",
       "X     0.054114  0.204114  0.026108  0.062184  0.002690  0.010759  0.184652   \n",
       "ADP   0.322893  0.008522  0.013849  0.322893  0.062001  0.000959  0.001491   \n",
       "ADJ   0.004948  0.012205  0.004948  0.698499  0.021112  0.016658  0.010886   \n",
       ".     0.173226  0.088769  0.051932  0.223091  0.080593  0.057772  0.002336   \n",
       "PRON  0.009164  0.487972  0.032837  0.207331  0.007255  0.004582  0.011837   \n",
       "\n",
       "             X       ADP       ADJ         .      PRON  \n",
       "DET   0.046197  0.009191  0.203652  0.017777  0.003749  \n",
       "VERB  0.217816  0.091402  0.065221  0.035167  0.035321  \n",
       "ADV   0.023263  0.118611  0.129751  0.134666  0.015400  \n",
       "NOUN  0.029231  0.177023  0.012231  0.239307  0.004769  \n",
       "NUM   0.210464  0.035672  0.032402  0.115933  0.001486  \n",
       "CONJ  0.008862  0.052705  0.118937  0.033116  0.057369  \n",
       "PRT   0.014007  0.021173  0.084039  0.041694  0.017915  \n",
       "X     0.074842  0.144937  0.016456  0.162816  0.056329  \n",
       "ADP   0.035048  0.016512  0.105785  0.039842  0.070203  \n",
       "ADJ   0.021442  0.077519  0.065314  0.065809  0.000660  \n",
       ".     0.027314  0.090386  0.044654  0.094070  0.065768  \n",
       "PRON  0.093929  0.023291  0.073692  0.040473  0.007637  "
      ]
     },
     "execution_count": 16,
     "metadata": {},
     "output_type": "execute_result"
    }
   ],
   "source": [
    "tags_df = pd.DataFrame(tags_matrix, columns = list(T), index=list(T))\n",
    "tags_df"
   ]
  },
  {
   "cell_type": "markdown",
   "metadata": {},
   "source": [
    "We can see that above is a 12x12 matrix. We can get records of any tags in tabular form. Below are some examples for getting records of individual tags:"
   ]
  },
  {
   "cell_type": "markdown",
   "metadata": {},
   "source": [
    "##### Getting records of tag `NOUN`:"
   ]
  },
  {
   "cell_type": "code",
   "execution_count": 17,
   "metadata": {},
   "outputs": [
    {
     "data": {
      "text/plain": [
       "DET     0.013250\n",
       "VERB    0.146336\n",
       "ADV     0.017182\n",
       "NOUN    0.264898\n",
       "NUM     0.009537\n",
       "CONJ    0.042263\n",
       "PRT     0.043974\n",
       "X       0.029231\n",
       "ADP     0.177023\n",
       "ADJ     0.012231\n",
       ".       0.239307\n",
       "PRON    0.004769\n",
       "Name: NOUN, dtype: float32"
      ]
     },
     "execution_count": 17,
     "metadata": {},
     "output_type": "execute_result"
    }
   ],
   "source": [
    "tags_df.loc['NOUN', :]"
   ]
  },
  {
   "cell_type": "markdown",
   "metadata": {},
   "source": [
    "##### Getting records of tag ADJ:"
   ]
  },
  {
   "cell_type": "code",
   "execution_count": 18,
   "metadata": {},
   "outputs": [
    {
     "data": {
      "text/plain": [
       "DET     0.004948\n",
       "VERB    0.012205\n",
       "ADV     0.004948\n",
       "NOUN    0.698499\n",
       "NUM     0.021112\n",
       "CONJ    0.016658\n",
       "PRT     0.010886\n",
       "X       0.021442\n",
       "ADP     0.077519\n",
       "ADJ     0.065314\n",
       ".       0.065809\n",
       "PRON    0.000660\n",
       "Name: ADJ, dtype: float32"
      ]
     },
     "execution_count": 18,
     "metadata": {},
     "output_type": "execute_result"
    }
   ],
   "source": [
    "tags_df.loc['ADJ', :]"
   ]
  },
  {
   "cell_type": "markdown",
   "metadata": {},
   "source": [
    "##### Visualizing the DataFrame using Heat Map:"
   ]
  },
  {
   "cell_type": "code",
   "execution_count": 19,
   "metadata": {},
   "outputs": [
    {
     "data": {
      "image/png": "[encoded data removed]",
      "text/plain": [
       "<Figure size 1296x864 with 2 Axes>"
      ]
     },
     "metadata": {
      "needs_background": "light"
     },
     "output_type": "display_data"
    }
   ],
   "source": [
    "# heatmap of tags matrix\n",
    "# T(i, j) means P(tag j given tag i)\n",
    "plt.figure(figsize=(18, 12))\n",
    "sns.heatmap(tags_df, annot=True, cmap='YlGnBu')\n",
    "plt.show()"
   ]
  },
  {
   "cell_type": "markdown",
   "metadata": {},
   "source": [
    "From the above graph, we can see that highest probability is between the tags `ADJ` and `NOUN`."
   ]
  },
  {
   "cell_type": "markdown",
   "metadata": {},
   "source": [
    "##### Plotting the frequent tags whose probabilities are greater than 0.25; i.e. P(t2, t1) > 0.25:"
   ]
  },
  {
   "cell_type": "code",
   "execution_count": 20,
   "metadata": {},
   "outputs": [
    {
     "data": {
      "image/png": "[encoded data removed]",
      "text/plain": [
       "<Figure size 1296x864 with 2 Axes>"
      ]
     },
     "metadata": {
      "needs_background": "light"
     },
     "output_type": "display_data"
    }
   ],
   "source": [
    "tags_frequent = tags_df[tags_df > 0.25]\n",
    "plt.figure(figsize=(18, 12))\n",
    "sns.heatmap(tags_frequent, annot=True, cmap='YlGnBu')\n",
    "plt.show()"
   ]
  },
  {
   "cell_type": "markdown",
   "metadata": {},
   "source": [
    "We can see from the above graphs that `ADJ` and `NOUN` tags are much frequent."
   ]
  },
  {
   "cell_type": "markdown",
   "metadata": {},
   "source": [
    "##### Now, applying Viterbi Algorithm using the computed probabilities P(w, tag) and P(t2, t1) to assign tags to each word in the document:"
   ]
  },
  {
   "cell_type": "markdown",
   "metadata": {},
   "source": [
    "### Viterbi Algorithm:"
   ]
  },
  {
   "cell_type": "markdown",
   "metadata": {},
   "source": [
    "##### Vanilla Viterbi Algorithm:"
   ]
  },
  {
   "cell_type": "code",
   "execution_count": 21,
   "metadata": {},
   "outputs": [],
   "source": [
    "# Viterbi Heuristic\n",
    "def Vanilla_Viterbi(words, train_bag = train_tagged_words):\n",
    "    state = []\n",
    "    T = list(set([pair[1] for pair in train_bag]))\n",
    "    \n",
    "    for key, word in enumerate(words):\n",
    "        #initialise list of probability column for a given observation\n",
    "        p = [] \n",
    "        for tag in T:\n",
    "            if key == 0:\n",
    "                transition_p = tags_df.loc['.', tag]\n",
    "            else:\n",
    "                transition_p = tags_df.loc[state[-1], tag]\n",
    "                \n",
    "            # compute emission and state probabilities\n",
    "            emission_p = word_given_tag(words[key], tag)[0]/word_given_tag(words[key], tag)[1]\n",
    "            state_probability = emission_p * transition_p    \n",
    "            p.append(state_probability)\n",
    "            \n",
    "        pmax = max(p)\n",
    "        # getting state for which probability is maximum\n",
    "        state_max = T[p.index(pmax)] \n",
    "        state.append(state_max)\n",
    "    return list(zip(words, state))"
   ]
  },
  {
   "cell_type": "markdown",
   "metadata": {},
   "source": [
    "##### Testing the Viterbi algorithm on a fewer sample sentences of test dataset:"
   ]
  },
  {
   "cell_type": "code",
   "execution_count": 22,
   "metadata": {},
   "outputs": [],
   "source": [
    "random.seed(100)\n",
    "\n",
    "# choose random 5 sents\n",
    "rndom = [random.randint(1, len(test_set)) for x in range(5)]\n",
    "\n",
    "# list of sents\n",
    "test_run = [test_set[i] for i in rndom]\n",
    "\n",
    "# list of tagged words\n",
    "test_run_base = [tup for sent in test_run for tup in sent]\n",
    "\n",
    "# list of untagged words\n",
    "test_tagged_words = [tup[0] for sent in test_run for tup in sent]"
   ]
  },
  {
   "cell_type": "markdown",
   "metadata": {},
   "source": [
    "##### Tagging the test sentences:"
   ]
  },
  {
   "cell_type": "code",
   "execution_count": 23,
   "metadata": {},
   "outputs": [
    {
     "name": "stdout",
     "output_type": "stream",
     "text": [
      "Time taken (in seconds): 21.875502347946167\n"
     ]
    }
   ],
   "source": [
    "start = time.time()\n",
    "tagged_seq = Vanilla_Viterbi(test_tagged_words)\n",
    "end = time.time()\n",
    "difference = end-start\n",
    "\n",
    "print(\"Time taken (in seconds): {}\".format(difference))"
   ]
  },
  {
   "cell_type": "markdown",
   "metadata": {},
   "source": [
    "##### Getting Accuracy:"
   ]
  },
  {
   "cell_type": "code",
   "execution_count": 24,
   "metadata": {},
   "outputs": [
    {
     "name": "stdout",
     "output_type": "stream",
     "text": [
      "Vanilla Viterbi Original Accuracy: 86.95652173913044\n"
     ]
    }
   ],
   "source": [
    "vanilla_viterbi_word_check = [i for i, j in zip(tagged_seq, test_run_base) if i == j]\n",
    "vanilla_viterbi_accuracy = len(vanilla_viterbi_word_check)/len(tagged_seq) * 100\n",
    "print('Vanilla Viterbi Original Accuracy: {}'.format(vanilla_viterbi_accuracy))"
   ]
  },
  {
   "cell_type": "markdown",
   "metadata": {},
   "source": [
    "##### Checking the incorrectly tagged words:"
   ]
  },
  {
   "cell_type": "code",
   "execution_count": 25,
   "metadata": {},
   "outputs": [
    {
     "name": "stdout",
     "output_type": "stream",
     "text": [
      "Number of Incorrect Tagged Words: 15\n",
      "\n",
      "\n",
      "List of Incorrect Tagged Words:\n",
      " [(('GOODY', 'DET'), ('GOODY', 'NOUN')), (('PRODUCTS', 'DET'), ('PRODUCTS', 'NOUN')), (('11.5', 'DET'), ('11.5', 'NUM')), (('500-Stock', 'DET'), ('500-Stock', 'NOUN')), (('0.84', 'DET'), ('0.84', 'NUM')), (('341.20', 'DET'), ('341.20', 'NUM')), (('equivalent', 'NOUN'), ('equivalent', 'ADJ')), (('average', 'ADJ'), ('average', 'NOUN')), (('minority-owned', 'DET'), ('minority-owned', 'ADJ')), (('blighted', 'DET'), ('blighted', 'ADJ')), (('famous', 'DET'), ('famous', 'ADJ')), (('Jimmy', 'DET'), ('Jimmy', 'NOUN')), (('promised', 'DET'), ('promised', 'VERB')), (('stiffer', 'DET'), ('stiffer', 'ADJ')), (('1', 'NUM'), ('1', 'X'))]\n"
     ]
    }
   ],
   "source": [
    "incorrect_tagged_words = [j for i, j in enumerate(zip(tagged_seq, test_run_base)) if j[0] != j[1]]\n",
    "print(\"Number of Incorrect Tagged Words: {}\".format(len(incorrect_tagged_words)))\n",
    "print(\"\\n\")\n",
    "print(\"List of Incorrect Tagged Words:\\n {}\".format(incorrect_tagged_words))"
   ]
  },
  {
   "cell_type": "markdown",
   "metadata": {},
   "source": [
    "### Solve the problem of unknown words"
   ]
  },
  {
   "cell_type": "markdown",
   "metadata": {},
   "source": [
    "### Viterbi Modification - Technique 1:\n",
    "There are 2 kinds of probabilities: Transition and Emission. So, if we find that emission probability is 0; it means, the word is unknown. So, according to this case, we'll use only transition probabilty otherwise we'll use both emission and transition probabilities."
   ]
  },
  {
   "cell_type": "code",
   "execution_count": 26,
   "metadata": {},
   "outputs": [],
   "source": [
    "def Vanilla_Viterbi_for_Unknown_Words(words, train_bag = train_tagged_words):\n",
    "    state = []\n",
    "    T = list(set([pair[1] for pair in train_bag]))\n",
    "    \n",
    "    for key, word in enumerate(words):\n",
    "        #initialise list of probability column for a given observation\n",
    "        p = [] \n",
    "        for tag in T:\n",
    "            if key == 0:\n",
    "                transition_p = tags_df.loc['.', tag]\n",
    "            else:\n",
    "                transition_p = tags_df.loc[state[-1], tag]\n",
    "                \n",
    "            # compute emission and state probabilities\n",
    "            emission_p = word_given_tag(words[key], tag)[0]/word_given_tag(words[key], tag)[1]\n",
    "            \n",
    "            # Now, modifying the original Vanilla Viterbi Algorithm to consider unknown words:\n",
    "            if word not in V:\n",
    "                state_probability = transition_p\n",
    "            else:\n",
    "                state_probability = emission_p * transition_p\n",
    "                \n",
    "            p.append(state_probability)\n",
    "            \n",
    "        pmax = max(p)\n",
    "        # getting state for which probability is maximum\n",
    "        state_max = T[p.index(pmax)] \n",
    "        state.append(state_max)\n",
    "    return list(zip(words, state))"
   ]
  },
  {
   "cell_type": "markdown",
   "metadata": {},
   "source": [
    "##### Tagging the test sentences:"
   ]
  },
  {
   "cell_type": "code",
   "execution_count": 27,
   "metadata": {},
   "outputs": [
    {
     "name": "stdout",
     "output_type": "stream",
     "text": [
      "Time taken (in seconds):  21.875502347946167\n",
      "Vanilla Viterbi Modified Accuracy: 0.8869565217391304\n"
     ]
    }
   ],
   "source": [
    "start = time.time()\n",
    "unknown_word_tagged_seq = Vanilla_Viterbi_for_Unknown_Words(test_tagged_words)\n",
    "end = time.time()\n",
    "print(\"Time taken (in seconds): \", difference)\n",
    "\n",
    "# accuracy\n",
    "unknown_words = [i for i, j in zip(unknown_word_tagged_seq, test_run_base) if i == j]\n",
    "\n",
    "modified_viterbi_accuracy = len(unknown_words)/len(unknown_word_tagged_seq)\n",
    "\n",
    "print(\"Vanilla Viterbi Modified Accuracy: {}\".format(modified_viterbi_accuracy))"
   ]
  },
  {
   "cell_type": "markdown",
   "metadata": {},
   "source": [
    "From the above result, we can see that our modified algorithm for unknown words is performing better. We have achieved 88.7% accuracy. Our next step is to try to overcome the loss at some extent."
   ]
  },
  {
   "cell_type": "markdown",
   "metadata": {},
   "source": [
    "#### First trying Lexicon and Rule-Based Methods for POS Tagging:"
   ]
  },
  {
   "cell_type": "markdown",
   "metadata": {},
   "source": [
    "##### Lexicon (Unigram) Tagger:\n",
    "Training a lexicon (or a unigram) tagger which assigns the most commonly assigned tag to a word"
   ]
  },
  {
   "cell_type": "code",
   "execution_count": 28,
   "metadata": {},
   "outputs": [
    {
     "name": "stdout",
     "output_type": "stream",
     "text": [
      "Simple Unigram Accuracy: 0.9034242362107853\n"
     ]
    }
   ],
   "source": [
    "unigram_tagger = nltk.UnigramTagger(train_set)\n",
    "unigram_accuracy = unigram_tagger.evaluate(test_set)\n",
    "print(\"Simple Unigram Accuracy: {}\".format(unigram_accuracy))"
   ]
  },
  {
   "cell_type": "markdown",
   "metadata": {},
   "source": [
    "##### Now, combining the unigram tagger with a rule based regex tagger:"
   ]
  },
  {
   "cell_type": "code",
   "execution_count": 29,
   "metadata": {},
   "outputs": [],
   "source": [
    "patterns = [\n",
    "    (r'^[aA-zZ].*[0-9]+','NOUN'),  # Alpha Numeric\n",
    "    (r'.*ness$', 'NOUN'),\n",
    "    (r'.*\\'s$', 'NOUN'),              # possessive nouns\n",
    "    (r'.*s$', 'NOUN'),                # plural nouns\n",
    "    (r'.*', 'NOUN'),    \n",
    "    (r'.*ly$', 'ADV'),\n",
    "    (r'^(0|([*|-|$].*))','X'), # Any special character combination\n",
    "    (r'.*ould$', 'X'), # modals\n",
    "    (r'(The|the|A|a|An|an)$', 'DET'),\n",
    "    (r'^([0-9]|[aA-zZ])+\\-[aA-zZ]*$','ADJ'),\n",
    "    (r'.*able$', 'ADJ'), # adjective like 100-megabytes 237-Seats\n",
    "    (r'[aA-zZ]+(ed|ing|es)$', 'VERB'), # Any word ending with 'ing' or 'ed' is a verb\n",
    "    (r'[0-9].?[,\\/]?[0-9]*','NUM')# Numbers \n",
    "    ]"
   ]
  },
  {
   "cell_type": "code",
   "execution_count": 30,
   "metadata": {},
   "outputs": [
    {
     "name": "stdout",
     "output_type": "stream",
     "text": [
      "Unigram Accuracy (Backed up RegexpTagger): 0.9329505843756407\n"
     ]
    }
   ],
   "source": [
    "rule_based_tagger = nltk.RegexpTagger(patterns)\n",
    "\n",
    "# unigram tagger backed up by the rule-based tagger\n",
    "rule_based_unigram_tagger = nltk.UnigramTagger(train_set, backoff = rule_based_tagger)\n",
    "unigram_regexp_tagger_accuracy = rule_based_unigram_tagger.evaluate(test_set)\n",
    "print(\"Unigram Accuracy (Backed up RegexpTagger): {}\".format(unigram_regexp_tagger_accuracy))"
   ]
  },
  {
   "cell_type": "markdown",
   "metadata": {},
   "source": [
    "We can see from the above result that the accuracy of the Unigram Tagger backed up by the Regexp Tagger slightly improved."
   ]
  },
  {
   "cell_type": "markdown",
   "metadata": {},
   "source": [
    "##### Bigram Tagger:"
   ]
  },
  {
   "cell_type": "code",
   "execution_count": 31,
   "metadata": {},
   "outputs": [
    {
     "name": "stdout",
     "output_type": "stream",
     "text": [
      "Bigram Accuracy (Backed up by the Rule Based Unigram Tagger): 0.9388968628255074\n"
     ]
    }
   ],
   "source": [
    "bigram_tagger = nltk.BigramTagger(train_set, backoff=rule_based_unigram_tagger)\n",
    "bigram_accuracy = bigram_tagger.evaluate(test_set)\n",
    "print(\"Bigram Accuracy (Backed up by the Rule Based Unigram Tagger): {}\".format(bigram_accuracy))"
   ]
  },
  {
   "cell_type": "markdown",
   "metadata": {},
   "source": [
    "##### Trigram Tagger:"
   ]
  },
  {
   "cell_type": "code",
   "execution_count": 32,
   "metadata": {},
   "outputs": [
    {
     "name": "stdout",
     "output_type": "stream",
     "text": [
      "Trigram Accuracy (Backed up by the Bigram Tagger: 0.9384867746565512\n"
     ]
    }
   ],
   "source": [
    "trigram_tagger = nltk.TrigramTagger(train_set, backoff = bigram_tagger)\n",
    "trigram_accuracy = trigram_tagger.evaluate(test_set)\n",
    "print(\"Trigram Accuracy (Backed up by the Bigram Tagger: {}\".format(trigram_accuracy))"
   ]
  },
  {
   "cell_type": "markdown",
   "metadata": {},
   "source": [
    "From the above codes of Unigram, Bigram and Trigram, we notice that the Trigram Tagger backed up by the Bigram Tagger gives accuracy of about 93.8%. Let's use this result for further modification."
   ]
  },
  {
   "cell_type": "markdown",
   "metadata": {},
   "source": [
    "### Viterbi Modification-Technique 2:\n",
    "We are going to modify the Viterbi Algorithm to have trigram tagger as a back-off. We are designing the algo in such a way that When the viterbi algorithm is not able to tag an unknown word, it uses the rule-based tagger."
   ]
  },
  {
   "cell_type": "code",
   "execution_count": 33,
   "metadata": {},
   "outputs": [],
   "source": [
    "# A trigram tagger backed off by a rule based tagger.\n",
    "def trigram_tagger(word, train_set = train_set):\n",
    "    \n",
    "    patterns = [\n",
    "    (r'[aA-zZ]+(ed|ing|es)$', 'VERB'), # Any word ending with 'ing' or 'ed' is a verb\n",
    "\n",
    "    (r'.*ly$', 'ADV'),\n",
    "        \n",
    "    (r'^([0-9]|[aA-zZ])+\\-[aA-zZ]*$','ADJ'),\n",
    "    (r'.*able$', 'ADJ'), \n",
    "    (r'.*ful$', 'ADJ'),\n",
    "    (r'.*ous$', 'ADJ'),\n",
    "        \n",
    "    (r'^[aA-zZ].*[0-9]+','NOUN'),     # Alpha Numeric\n",
    "    (r'.*ness$', 'NOUN'),\n",
    "    (r'.*\\'s$', 'NOUN'),              # possessive nouns - words ending with 's\n",
    "    (r'.*s$', 'NOUN'),                # plural nouns\n",
    "    (r'.*ers$', 'NOUN'),              # eg.- kinderganteners, autobioghapgers\n",
    "    (r'.*ment$', 'NOUN'),\n",
    "    (r'.*town$', 'NOUN'),\n",
    "        \n",
    "    (r'^(0|([*|-|$].*))','X'), # Any special character combination\n",
    "    (r'.*ould$', 'X'),\n",
    "        \n",
    "    (r'(The|the|A|a|An|an|That|that|This|this|Those|those|These|these)$', 'DET'), # That/this/these/those belong to the category of Demonstrative determiners\n",
    "    (r'[0-9].?[,\\/]?[0-9]*','NUM'), # Numbers \n",
    "        \n",
    "    (r'.*', 'NOUN')\n",
    "    ]\n",
    "\n",
    "    regex_based_tagger = nltk.RegexpTagger(patterns)\n",
    "\n",
    "    # Below is code fpr trigram tagger backed up by the regex tagger\n",
    "    trigram_regex_tagger = nltk.TrigramTagger(train_set, backoff = regex_based_tagger)\n",
    "    return trigram_regex_tagger.tag_sents([[(word)]])"
   ]
  },
  {
   "cell_type": "markdown",
   "metadata": {},
   "source": [
    "##### Viterbi Algo backed up by trigram tagger:"
   ]
  },
  {
   "cell_type": "code",
   "execution_count": 34,
   "metadata": {},
   "outputs": [],
   "source": [
    "def viterbi_backedup_by_trigram_tagger(words, train_bag = train_tagged_words):\n",
    "    state = []\n",
    "    tag_set = list(set([pair[1] for pair in train_bag]))\n",
    "    \n",
    "    # use the trigram tagger backed up by the rule based tagger\n",
    "    # for unknown words.\n",
    "    for key, word in enumerate(words):\n",
    "        if word not in V:\n",
    "            unknown_word_tag = trigram_tagger(word)\n",
    "            for sent in unknown_word_tag:\n",
    "                for tup in sent:\n",
    "                    state.append(tup[1])\n",
    "        else:            \n",
    "            p = [] \n",
    "            for tag in tag_set:\n",
    "                if key == 0:\n",
    "                    transition_p = tags_df.loc['.', tag]\n",
    "                else:\n",
    "                    transition_p = tags_df.loc[state[-1], tag]\n",
    "                \n",
    "            # compute emission and state probabilities\n",
    "                emission_p = word_given_tag(words[key], tag)[0]/word_given_tag(words[key], tag)[1]\n",
    "                state_probability = emission_p * transition_p    \n",
    "                p.append(state_probability)\n",
    "            \n",
    "            pmax = max(p)\n",
    "            # getting state for which probability is maximum\n",
    "            state_max = tag_set[p.index(pmax)] \n",
    "            state.append(state_max)\n",
    "    return list(zip(words, state))"
   ]
  },
  {
   "cell_type": "markdown",
   "metadata": {},
   "source": [
    "#### Evaluating tagging accuracy"
   ]
  },
  {
   "cell_type": "code",
   "execution_count": 35,
   "metadata": {},
   "outputs": [
    {
     "name": "stdout",
     "output_type": "stream",
     "text": [
      "Time taken (in seconds):  21.875502347946167\n",
      "Vanilla Viterbi Modified Accuracy (Backed up By Trigram Tagger): 0.9391304347826087\n"
     ]
    }
   ],
   "source": [
    "# tagging the test sentences\n",
    "start = time.time()\n",
    "viterbi_trigram_tagged_sequence = viterbi_backedup_by_trigram_tagger(test_tagged_words)\n",
    "end = time.time()\n",
    "print(\"Time taken (in seconds): \", difference)\n",
    "\n",
    "# accuracy\n",
    "viterbi_trigram_words = [i for i, j in zip(viterbi_trigram_tagged_sequence, test_run_base) if i == j]\n",
    "\n",
    "viterbi_trigram_accuracy = len(viterbi_trigram_words)/len(viterbi_trigram_tagged_sequence)\n",
    "\n",
    "print(\"Vanilla Viterbi Modified Accuracy (Backed up By Trigram Tagger): {}\".format(viterbi_trigram_accuracy))"
   ]
  },
  {
   "cell_type": "markdown",
   "metadata": {},
   "source": [
    "### Compare the tagging accuracies of the modifications with the vanilla Viterbi algorithm"
   ]
  },
  {
   "cell_type": "code",
   "execution_count": 36,
   "metadata": {
    "scrolled": true
   },
   "outputs": [
    {
     "data": {
      "text/html": [
       "<div>\n",
       "<style scoped>\n",
       "    .dataframe tbody tr th:only-of-type {\n",
       "        vertical-align: middle;\n",
       "    }\n",
       "\n",
       "    .dataframe tbody tr th {\n",
       "        vertical-align: top;\n",
       "    }\n",
       "\n",
       "    .dataframe thead th {\n",
       "        text-align: right;\n",
       "    }\n",
       "</style>\n",
       "<table border=\"1\" class=\"dataframe\">\n",
       "  <thead>\n",
       "    <tr style=\"text-align: right;\">\n",
       "      <th></th>\n",
       "      <th>Tagging_Accuracy</th>\n",
       "    </tr>\n",
       "    <tr>\n",
       "      <th>Tagging_Algorithm</th>\n",
       "      <th></th>\n",
       "    </tr>\n",
       "  </thead>\n",
       "  <tbody>\n",
       "    <tr>\n",
       "      <th>Viterbi + Trigram_Tagger</th>\n",
       "      <td>93.913043</td>\n",
       "    </tr>\n",
       "    <tr>\n",
       "      <th>Bigram Tagger + Unigram_Tagger</th>\n",
       "      <td>93.889686</td>\n",
       "    </tr>\n",
       "    <tr>\n",
       "      <th>Trigram Tagger + Bigram_tagger</th>\n",
       "      <td>93.848677</td>\n",
       "    </tr>\n",
       "    <tr>\n",
       "      <th>Unigram + RegexpTagger</th>\n",
       "      <td>93.295058</td>\n",
       "    </tr>\n",
       "    <tr>\n",
       "      <th>Unigram Tagger</th>\n",
       "      <td>90.342424</td>\n",
       "    </tr>\n",
       "    <tr>\n",
       "      <th>Vanilla Viterbi Modified</th>\n",
       "      <td>88.695652</td>\n",
       "    </tr>\n",
       "    <tr>\n",
       "      <th>Vanilla Viterbi Original</th>\n",
       "      <td>86.956522</td>\n",
       "    </tr>\n",
       "  </tbody>\n",
       "</table>\n",
       "</div>"
      ],
      "text/plain": [
       "                                Tagging_Accuracy\n",
       "Tagging_Algorithm                               \n",
       "Viterbi + Trigram_Tagger               93.913043\n",
       "Bigram Tagger + Unigram_Tagger         93.889686\n",
       "Trigram Tagger + Bigram_tagger         93.848677\n",
       "Unigram + RegexpTagger                 93.295058\n",
       "Unigram Tagger                         90.342424\n",
       "Vanilla Viterbi Modified               88.695652\n",
       "Vanilla Viterbi Original               86.956522"
      ]
     },
     "execution_count": 36,
     "metadata": {},
     "output_type": "execute_result"
    }
   ],
   "source": [
    "acccuracy = [['Vanilla Viterbi Original', vanilla_viterbi_accuracy], \n",
    "                  ['Vanilla Viterbi Modified', modified_viterbi_accuracy * 100], \n",
    "                  ['Unigram Tagger', unigram_accuracy * 100],\n",
    "                  ['Unigram + RegexpTagger', unigram_regexp_tagger_accuracy * 100],\n",
    "                  ['Bigram Tagger + Unigram_Tagger', bigram_accuracy * 100],\n",
    "                  ['Trigram Tagger + Bigram_tagger', trigram_accuracy * 100],\n",
    "                  ['Viterbi + Trigram_Tagger', viterbi_trigram_accuracy * 100]]\n",
    "\n",
    "acccuracy_df = pd.DataFrame(acccuracy, columns = ['Tagging_Algorithm', 'Tagging_Accuracy'])\n",
    "\n",
    "acccuracy_df.set_index('Tagging_Algorithm', drop = True, inplace = True)\n",
    "\n",
    "acccuracy_df.sort_values(by='Tagging_Accuracy', ascending= False)"
   ]
  },
  {
   "cell_type": "markdown",
   "metadata": {},
   "source": [
    "##### Importing the Sample Test Data File:"
   ]
  },
  {
   "cell_type": "code",
   "execution_count": 37,
   "metadata": {},
   "outputs": [
    {
     "data": {
      "text/html": [
       "<div>\n",
       "<style scoped>\n",
       "    .dataframe tbody tr th:only-of-type {\n",
       "        vertical-align: middle;\n",
       "    }\n",
       "\n",
       "    .dataframe tbody tr th {\n",
       "        vertical-align: top;\n",
       "    }\n",
       "\n",
       "    .dataframe thead th {\n",
       "        text-align: right;\n",
       "    }\n",
       "</style>\n",
       "<table border=\"1\" class=\"dataframe\">\n",
       "  <thead>\n",
       "    <tr style=\"text-align: right;\">\n",
       "      <th></th>\n",
       "      <th>Test_Samples</th>\n",
       "    </tr>\n",
       "  </thead>\n",
       "  <tbody>\n",
       "    <tr>\n",
       "      <th>0</th>\n",
       "      <td>Android is a mobile operating system developed...</td>\n",
       "    </tr>\n",
       "    <tr>\n",
       "      <th>1</th>\n",
       "      <td>Android has been the best-selling OS worldwide...</td>\n",
       "    </tr>\n",
       "    <tr>\n",
       "      <th>2</th>\n",
       "      <td>Google and Twitter made a deal in 2015 that ga...</td>\n",
       "    </tr>\n",
       "    <tr>\n",
       "      <th>3</th>\n",
       "      <td>Twitter is an online news and social networkin...</td>\n",
       "    </tr>\n",
       "    <tr>\n",
       "      <th>4</th>\n",
       "      <td>Before entering politics, Donald Trump was a d...</td>\n",
       "    </tr>\n",
       "    <tr>\n",
       "      <th>5</th>\n",
       "      <td>The 2018 FIFA World Cup is the 21st FIFA World...</td>\n",
       "    </tr>\n",
       "    <tr>\n",
       "      <th>6</th>\n",
       "      <td>This is the first World Cup to be held in East...</td>\n",
       "    </tr>\n",
       "    <tr>\n",
       "      <th>7</th>\n",
       "      <td>Show me the cheapest round trips from Dallas t...</td>\n",
       "    </tr>\n",
       "    <tr>\n",
       "      <th>8</th>\n",
       "      <td>I would like to see flights from Denver to Phi...</td>\n",
       "    </tr>\n",
       "    <tr>\n",
       "      <th>9</th>\n",
       "      <td>Show me the price of the flights leaving Atlan...</td>\n",
       "    </tr>\n",
       "    <tr>\n",
       "      <th>10</th>\n",
       "      <td>NASA invited social media users to experience ...</td>\n",
       "    </tr>\n",
       "  </tbody>\n",
       "</table>\n",
       "</div>"
      ],
      "text/plain": [
       "                                         Test_Samples\n",
       "0   Android is a mobile operating system developed...\n",
       "1   Android has been the best-selling OS worldwide...\n",
       "2   Google and Twitter made a deal in 2015 that ga...\n",
       "3   Twitter is an online news and social networkin...\n",
       "4   Before entering politics, Donald Trump was a d...\n",
       "5   The 2018 FIFA World Cup is the 21st FIFA World...\n",
       "6   This is the first World Cup to be held in East...\n",
       "7   Show me the cheapest round trips from Dallas t...\n",
       "8   I would like to see flights from Denver to Phi...\n",
       "9   Show me the price of the flights leaving Atlan...\n",
       "10  NASA invited social media users to experience ..."
      ]
     },
     "execution_count": 37,
     "metadata": {},
     "output_type": "execute_result"
    }
   ],
   "source": [
    "sample_test = pd.read_csv(\"Test_sentences.txt\", sep= '\\t', header=None)\n",
    "sample_test.columns = ['Test_Samples']\n",
    "sample_test"
   ]
  },
  {
   "cell_type": "markdown",
   "metadata": {},
   "source": [
    "##### Taking the lines of sample test data into a list form:"
   ]
  },
  {
   "cell_type": "code",
   "execution_count": 38,
   "metadata": {},
   "outputs": [
    {
     "data": {
      "text/plain": [
       "['Android is a mobile operating system developed by Google.',\n",
       " 'Android has been the best-selling OS worldwide on smartphones since 2011 and on tablets since 2013.',\n",
       " \"Google and Twitter made a deal in 2015 that gave Google access to Twitter's firehose.\",\n",
       " 'Twitter is an online news and social networking service on which users post and interact with messages known as tweets.',\n",
       " 'Before entering politics, Donald Trump was a domineering businessman and a television personality.',\n",
       " 'The 2018 FIFA World Cup is the 21st FIFA World Cup, an international football tournament contested once every four years.',\n",
       " 'This is the first World Cup to be held in Eastern Europe and the 11th time that it has been held in Europe.',\n",
       " 'Show me the cheapest round trips from Dallas to Atlanta',\n",
       " 'I would like to see flights from Denver to Philadelphia.',\n",
       " 'Show me the price of the flights leaving Atlanta at about 3 in the afternoon and arriving in San Francisco.',\n",
       " 'NASA invited social media users to experience the launch of ICESAT-2 Satellite.']"
      ]
     },
     "execution_count": 38,
     "metadata": {},
     "output_type": "execute_result"
    }
   ],
   "source": [
    "sample_test_list = [x for x in sample_test['Test_Samples']]\n",
    "sample_test_list"
   ]
  },
  {
   "cell_type": "markdown",
   "metadata": {},
   "source": [
    "##### Tokenizing the sample test data and creating POS Tags for them:"
   ]
  },
  {
   "cell_type": "code",
   "execution_count": 39,
   "metadata": {},
   "outputs": [
    {
     "data": {
      "text/plain": [
       "[[('Android', 'NOUN'),\n",
       "  ('is', 'VERB'),\n",
       "  ('a', 'DET'),\n",
       "  ('mobile', 'ADJ'),\n",
       "  ('operating', 'NOUN'),\n",
       "  ('system', 'NOUN'),\n",
       "  ('developed', 'VERB'),\n",
       "  ('by', 'ADP'),\n",
       "  ('Google', 'NOUN'),\n",
       "  ('.', '.')],\n",
       " [('Android', 'NOUN'),\n",
       "  ('has', 'VERB'),\n",
       "  ('been', 'VERB'),\n",
       "  ('the', 'DET'),\n",
       "  ('best-selling', 'ADJ'),\n",
       "  ('OS', 'NOUN'),\n",
       "  ('worldwide', 'NOUN'),\n",
       "  ('on', 'ADP'),\n",
       "  ('smartphones', 'NOUN'),\n",
       "  ('since', 'ADP'),\n",
       "  ('2011', 'NUM'),\n",
       "  ('and', 'CONJ'),\n",
       "  ('on', 'ADP'),\n",
       "  ('tablets', 'NOUN'),\n",
       "  ('since', 'ADP'),\n",
       "  ('2013', 'NUM'),\n",
       "  ('.', '.')],\n",
       " [('Google', 'NOUN'),\n",
       "  ('and', 'CONJ'),\n",
       "  ('Twitter', 'NOUN'),\n",
       "  ('made', 'VERB'),\n",
       "  ('a', 'DET'),\n",
       "  ('deal', 'NOUN'),\n",
       "  ('in', 'ADP'),\n",
       "  ('2015', 'NUM'),\n",
       "  ('that', 'DET'),\n",
       "  ('gave', 'VERB'),\n",
       "  ('Google', 'NOUN'),\n",
       "  ('access', 'NOUN'),\n",
       "  ('to', 'PRT'),\n",
       "  ('Twitter', 'NOUN'),\n",
       "  (\"'s\", 'PRT'),\n",
       "  ('firehose', 'NOUN'),\n",
       "  ('.', '.')],\n",
       " [('Twitter', 'NOUN'),\n",
       "  ('is', 'VERB'),\n",
       "  ('an', 'DET'),\n",
       "  ('online', 'ADJ'),\n",
       "  ('news', 'NOUN'),\n",
       "  ('and', 'CONJ'),\n",
       "  ('social', 'ADJ'),\n",
       "  ('networking', 'NOUN'),\n",
       "  ('service', 'NOUN'),\n",
       "  ('on', 'ADP'),\n",
       "  ('which', 'DET'),\n",
       "  ('users', 'NOUN'),\n",
       "  ('post', 'NOUN'),\n",
       "  ('and', 'CONJ'),\n",
       "  ('interact', 'NOUN'),\n",
       "  ('with', 'ADP'),\n",
       "  ('messages', 'NOUN'),\n",
       "  ('known', 'VERB'),\n",
       "  ('as', 'ADP'),\n",
       "  ('tweets', 'NOUN'),\n",
       "  ('.', '.')],\n",
       " [('Before', 'ADP'),\n",
       "  ('entering', 'VERB'),\n",
       "  ('politics', 'NOUN'),\n",
       "  (',', '.'),\n",
       "  ('Donald', 'NOUN'),\n",
       "  ('Trump', 'NOUN'),\n",
       "  ('was', 'VERB'),\n",
       "  ('a', 'DET'),\n",
       "  ('domineering', 'ADJ'),\n",
       "  ('businessman', 'NOUN'),\n",
       "  ('and', 'CONJ'),\n",
       "  ('a', 'DET'),\n",
       "  ('television', 'NOUN'),\n",
       "  ('personality', 'NOUN'),\n",
       "  ('.', '.')],\n",
       " [('The', 'DET'),\n",
       "  ('2018', 'NUM'),\n",
       "  ('FIFA', 'NOUN'),\n",
       "  ('World', 'NOUN'),\n",
       "  ('Cup', 'NOUN'),\n",
       "  ('is', 'VERB'),\n",
       "  ('the', 'DET'),\n",
       "  ('21st', 'NUM'),\n",
       "  ('FIFA', 'NOUN'),\n",
       "  ('World', 'NOUN'),\n",
       "  ('Cup', 'NOUN'),\n",
       "  (',', '.'),\n",
       "  ('an', 'DET'),\n",
       "  ('international', 'ADJ'),\n",
       "  ('football', 'NOUN'),\n",
       "  ('tournament', 'NOUN'),\n",
       "  ('contested', 'VERB'),\n",
       "  ('once', 'ADV'),\n",
       "  ('every', 'DET'),\n",
       "  ('four', 'NUM'),\n",
       "  ('years', 'NOUN'),\n",
       "  ('.', '.')],\n",
       " [('This', 'DET'),\n",
       "  ('is', 'VERB'),\n",
       "  ('the', 'DET'),\n",
       "  ('first', 'ADJ'),\n",
       "  ('World', 'NOUN'),\n",
       "  ('Cup', 'NOUN'),\n",
       "  ('to', 'PRT'),\n",
       "  ('be', 'VERB'),\n",
       "  ('held', 'VERB'),\n",
       "  ('in', 'ADP'),\n",
       "  ('Eastern', 'NOUN'),\n",
       "  ('Europe', 'NOUN'),\n",
       "  ('and', 'CONJ'),\n",
       "  ('the', 'DET'),\n",
       "  ('11th', 'NUM'),\n",
       "  ('time', 'NOUN'),\n",
       "  ('that', 'ADP'),\n",
       "  ('it', 'PRON'),\n",
       "  ('has', 'VERB'),\n",
       "  ('been', 'VERB'),\n",
       "  ('held', 'VERB'),\n",
       "  ('in', 'ADP'),\n",
       "  ('Europe', 'NOUN'),\n",
       "  ('.', '.')],\n",
       " [('Show', 'VERB'),\n",
       "  ('me', 'PRON'),\n",
       "  ('the', 'DET'),\n",
       "  ('cheapest', 'ADJ'),\n",
       "  ('round', 'NOUN'),\n",
       "  ('trips', 'NOUN'),\n",
       "  ('from', 'ADP'),\n",
       "  ('Dallas', 'NOUN'),\n",
       "  ('to', 'PRT'),\n",
       "  ('Atlanta', 'VERB')],\n",
       " [('I', 'PRON'),\n",
       "  ('would', 'VERB'),\n",
       "  ('like', 'VERB'),\n",
       "  ('to', 'PRT'),\n",
       "  ('see', 'VERB'),\n",
       "  ('flights', 'NOUN'),\n",
       "  ('from', 'ADP'),\n",
       "  ('Denver', 'NOUN'),\n",
       "  ('to', 'PRT'),\n",
       "  ('Philadelphia', 'NOUN'),\n",
       "  ('.', '.')],\n",
       " [('Show', 'VERB'),\n",
       "  ('me', 'PRON'),\n",
       "  ('the', 'DET'),\n",
       "  ('price', 'NOUN'),\n",
       "  ('of', 'ADP'),\n",
       "  ('the', 'DET'),\n",
       "  ('flights', 'NOUN'),\n",
       "  ('leaving', 'VERB'),\n",
       "  ('Atlanta', 'NOUN'),\n",
       "  ('at', 'ADP'),\n",
       "  ('about', 'ADV'),\n",
       "  ('3', 'NUM'),\n",
       "  ('in', 'ADP'),\n",
       "  ('the', 'DET'),\n",
       "  ('afternoon', 'NOUN'),\n",
       "  ('and', 'CONJ'),\n",
       "  ('arriving', 'NOUN'),\n",
       "  ('in', 'ADP'),\n",
       "  ('San', 'NOUN'),\n",
       "  ('Francisco', 'NOUN'),\n",
       "  ('.', '.')],\n",
       " [('NASA', 'NOUN'),\n",
       "  ('invited', 'VERB'),\n",
       "  ('social', 'ADJ'),\n",
       "  ('media', 'NOUN'),\n",
       "  ('users', 'NOUN'),\n",
       "  ('to', 'PRT'),\n",
       "  ('experience', 'VERB'),\n",
       "  ('the', 'DET'),\n",
       "  ('launch', 'NOUN'),\n",
       "  ('of', 'ADP'),\n",
       "  ('ICESAT-2', 'NOUN'),\n",
       "  ('Satellite', 'NOUN'),\n",
       "  ('.', '.')]]"
      ]
     },
     "execution_count": 39,
     "metadata": {},
     "output_type": "execute_result"
    }
   ],
   "source": [
    "sample_test_tokens = [word_tokenize(sent) for sent in sample_test_list]\n",
    "sample_test_pos_tags = nltk.pos_tag_sents(sample_test_tokens, tagset = 'universal')\n",
    "sample_test_pos_tags"
   ]
  },
  {
   "cell_type": "markdown",
   "metadata": {},
   "source": [
    "##### Listing the untagged words from the sample test data:"
   ]
  },
  {
   "cell_type": "code",
   "execution_count": 40,
   "metadata": {},
   "outputs": [],
   "source": [
    "sample_test_tagged_words = [tup[0] for sent in sample_test_pos_tags for tup in sent]\n",
    "sample_test_word_tag = [tup for sent in sample_test_pos_tags for tup in sent]"
   ]
  },
  {
   "cell_type": "code",
   "execution_count": 41,
   "metadata": {},
   "outputs": [
    {
     "data": {
      "text/plain": [
       "['Android',\n",
       " 'is',\n",
       " 'a',\n",
       " 'mobile',\n",
       " 'operating',\n",
       " 'system',\n",
       " 'developed',\n",
       " 'by',\n",
       " 'Google',\n",
       " '.',\n",
       " 'Android',\n",
       " 'has',\n",
       " 'been',\n",
       " 'the',\n",
       " 'best-selling',\n",
       " 'OS',\n",
       " 'worldwide',\n",
       " 'on',\n",
       " 'smartphones',\n",
       " 'since',\n",
       " '2011',\n",
       " 'and',\n",
       " 'on',\n",
       " 'tablets',\n",
       " 'since',\n",
       " '2013',\n",
       " '.',\n",
       " 'Google',\n",
       " 'and',\n",
       " 'Twitter',\n",
       " 'made',\n",
       " 'a',\n",
       " 'deal',\n",
       " 'in',\n",
       " '2015',\n",
       " 'that',\n",
       " 'gave',\n",
       " 'Google',\n",
       " 'access',\n",
       " 'to',\n",
       " 'Twitter',\n",
       " \"'s\",\n",
       " 'firehose',\n",
       " '.',\n",
       " 'Twitter',\n",
       " 'is',\n",
       " 'an',\n",
       " 'online',\n",
       " 'news',\n",
       " 'and',\n",
       " 'social',\n",
       " 'networking',\n",
       " 'service',\n",
       " 'on',\n",
       " 'which',\n",
       " 'users',\n",
       " 'post',\n",
       " 'and',\n",
       " 'interact',\n",
       " 'with',\n",
       " 'messages',\n",
       " 'known',\n",
       " 'as',\n",
       " 'tweets',\n",
       " '.',\n",
       " 'Before',\n",
       " 'entering',\n",
       " 'politics',\n",
       " ',',\n",
       " 'Donald',\n",
       " 'Trump',\n",
       " 'was',\n",
       " 'a',\n",
       " 'domineering',\n",
       " 'businessman',\n",
       " 'and',\n",
       " 'a',\n",
       " 'television',\n",
       " 'personality',\n",
       " '.',\n",
       " 'The',\n",
       " '2018',\n",
       " 'FIFA',\n",
       " 'World',\n",
       " 'Cup',\n",
       " 'is',\n",
       " 'the',\n",
       " '21st',\n",
       " 'FIFA',\n",
       " 'World',\n",
       " 'Cup',\n",
       " ',',\n",
       " 'an',\n",
       " 'international',\n",
       " 'football',\n",
       " 'tournament',\n",
       " 'contested',\n",
       " 'once',\n",
       " 'every',\n",
       " 'four',\n",
       " 'years',\n",
       " '.',\n",
       " 'This',\n",
       " 'is',\n",
       " 'the',\n",
       " 'first',\n",
       " 'World',\n",
       " 'Cup',\n",
       " 'to',\n",
       " 'be',\n",
       " 'held',\n",
       " 'in',\n",
       " 'Eastern',\n",
       " 'Europe',\n",
       " 'and',\n",
       " 'the',\n",
       " '11th',\n",
       " 'time',\n",
       " 'that',\n",
       " 'it',\n",
       " 'has',\n",
       " 'been',\n",
       " 'held',\n",
       " 'in',\n",
       " 'Europe',\n",
       " '.',\n",
       " 'Show',\n",
       " 'me',\n",
       " 'the',\n",
       " 'cheapest',\n",
       " 'round',\n",
       " 'trips',\n",
       " 'from',\n",
       " 'Dallas',\n",
       " 'to',\n",
       " 'Atlanta',\n",
       " 'I',\n",
       " 'would',\n",
       " 'like',\n",
       " 'to',\n",
       " 'see',\n",
       " 'flights',\n",
       " 'from',\n",
       " 'Denver',\n",
       " 'to',\n",
       " 'Philadelphia',\n",
       " '.',\n",
       " 'Show',\n",
       " 'me',\n",
       " 'the',\n",
       " 'price',\n",
       " 'of',\n",
       " 'the',\n",
       " 'flights',\n",
       " 'leaving',\n",
       " 'Atlanta',\n",
       " 'at',\n",
       " 'about',\n",
       " '3',\n",
       " 'in',\n",
       " 'the',\n",
       " 'afternoon',\n",
       " 'and',\n",
       " 'arriving',\n",
       " 'in',\n",
       " 'San',\n",
       " 'Francisco',\n",
       " '.',\n",
       " 'NASA',\n",
       " 'invited',\n",
       " 'social',\n",
       " 'media',\n",
       " 'users',\n",
       " 'to',\n",
       " 'experience',\n",
       " 'the',\n",
       " 'launch',\n",
       " 'of',\n",
       " 'ICESAT-2',\n",
       " 'Satellite',\n",
       " '.']"
      ]
     },
     "execution_count": 41,
     "metadata": {},
     "output_type": "execute_result"
    }
   ],
   "source": [
    "sample_test_tagged_words"
   ]
  },
  {
   "cell_type": "markdown",
   "metadata": {},
   "source": [
    "##### 1. Testing the accuracy of Vanilla Viterbi on sample test data:"
   ]
  },
  {
   "cell_type": "code",
   "execution_count": 42,
   "metadata": {},
   "outputs": [
    {
     "name": "stdout",
     "output_type": "stream",
     "text": [
      "Vanilla Viterbi Sample Test Accuracy: 0.7513812154696132\n"
     ]
    }
   ],
   "source": [
    "# tagging the test sentences\n",
    "sample_test_tagged_sequence = Vanilla_Viterbi(sample_test_tagged_words)\n",
    "\n",
    "# Let's check the accuracy of the vanilla viterbi algorithm\n",
    "sample_test_check = [i for i, j in zip(sample_test_tagged_sequence, sample_test_word_tag) if i == j]\n",
    "\n",
    "sample_test_vanilla_viterbi_accuracy = len(sample_test_check)/len(sample_test_tagged_sequence)\n",
    "\n",
    "print(\"Vanilla Viterbi Sample Test Accuracy: {}\".format(sample_test_vanilla_viterbi_accuracy))"
   ]
  },
  {
   "cell_type": "markdown",
   "metadata": {},
   "source": [
    "##### 2. Testing the accuracy of Vanilla_Viterbi_for_Unknown_Words on sample test data - "
   ]
  },
  {
   "cell_type": "code",
   "execution_count": 43,
   "metadata": {},
   "outputs": [
    {
     "name": "stdout",
     "output_type": "stream",
     "text": [
      "Vanilla Viterbi Sample Test Unknown Words Accuracy: 0.861878453038674\n"
     ]
    }
   ],
   "source": [
    "# tagging the test sentences\n",
    "sample_test_unknown_word_tagged_sequence = Vanilla_Viterbi_for_Unknown_Words(sample_test_tagged_words)\n",
    "\n",
    "# accuracy\n",
    "sample_test_unknown_words = [i for i, j in zip(sample_test_unknown_word_tagged_sequence, sample_test_word_tag) if i == j]\n",
    "\n",
    "sample_test_modified_viterbi_accuracy = len(sample_test_unknown_words)/len(sample_test_unknown_word_tagged_sequence)\n",
    "\n",
    "print(\"Vanilla Viterbi Sample Test Unknown Words Accuracy: {}\".format(sample_test_modified_viterbi_accuracy))"
   ]
  },
  {
   "cell_type": "markdown",
   "metadata": {},
   "source": [
    "##### 3. Testing the accuracy of viterbi_backedup_by_trigram_tagger on sample test data:"
   ]
  },
  {
   "cell_type": "code",
   "execution_count": 44,
   "metadata": {},
   "outputs": [
    {
     "name": "stdout",
     "output_type": "stream",
     "text": [
      "Vanilla Viterbi (Backedup by Trigram Tagger) Sample Test Accuracy: 0.9281767955801105\n"
     ]
    }
   ],
   "source": [
    "# tagging the test sentences\n",
    "sample_test_viterbi_trigram_tagged_sequence = viterbi_backedup_by_trigram_tagger(sample_test_tagged_words)\n",
    "\n",
    "# accuracy\n",
    "sample_test_viterbi_trigram_words = [i for i, j in zip(sample_test_viterbi_trigram_tagged_sequence, sample_test_word_tag) if i == j]\n",
    "\n",
    "sample_test_viterbi_trigram_accuracy = len(sample_test_viterbi_trigram_words)/len(sample_test_viterbi_trigram_tagged_sequence)\n",
    "\n",
    "print(\"Vanilla Viterbi (Backedup by Trigram Tagger) Sample Test Accuracy: {}\".format(sample_test_viterbi_trigram_accuracy))"
   ]
  },
  {
   "cell_type": "markdown",
   "metadata": {},
   "source": [
    "##### Comparing the accuracies of the above 3 algorithm on sample test data:"
   ]
  },
  {
   "cell_type": "code",
   "execution_count": 45,
   "metadata": {},
   "outputs": [
    {
     "data": {
      "text/html": [
       "<div>\n",
       "<style scoped>\n",
       "    .dataframe tbody tr th:only-of-type {\n",
       "        vertical-align: middle;\n",
       "    }\n",
       "\n",
       "    .dataframe tbody tr th {\n",
       "        vertical-align: top;\n",
       "    }\n",
       "\n",
       "    .dataframe thead th {\n",
       "        text-align: right;\n",
       "    }\n",
       "</style>\n",
       "<table border=\"1\" class=\"dataframe\">\n",
       "  <thead>\n",
       "    <tr style=\"text-align: right;\">\n",
       "      <th></th>\n",
       "      <th>Tagging Accuracy</th>\n",
       "    </tr>\n",
       "    <tr>\n",
       "      <th>Tagging Method</th>\n",
       "      <th></th>\n",
       "    </tr>\n",
       "  </thead>\n",
       "  <tbody>\n",
       "    <tr>\n",
       "      <th>Viterbi + Trigram Tagger</th>\n",
       "      <td>92.817680</td>\n",
       "    </tr>\n",
       "    <tr>\n",
       "      <th>Modified Vanilla Viterbi</th>\n",
       "      <td>86.187845</td>\n",
       "    </tr>\n",
       "    <tr>\n",
       "      <th>Vanilla Viterbi</th>\n",
       "      <td>75.138122</td>\n",
       "    </tr>\n",
       "  </tbody>\n",
       "</table>\n",
       "</div>"
      ],
      "text/plain": [
       "                          Tagging Accuracy\n",
       "Tagging Method                            \n",
       "Viterbi + Trigram Tagger         92.817680\n",
       "Modified Vanilla Viterbi         86.187845\n",
       "Vanilla Viterbi                  75.138122"
      ]
     },
     "execution_count": 45,
     "metadata": {},
     "output_type": "execute_result"
    }
   ],
   "source": [
    "sample_test_data_accuracy = [['Vanilla Viterbi', sample_test_vanilla_viterbi_accuracy * 100], \n",
    "                  ['Modified Vanilla Viterbi', sample_test_modified_viterbi_accuracy * 100], \n",
    "                  ['Viterbi + Trigram Tagger', sample_test_viterbi_trigram_accuracy * 100]]\n",
    "\n",
    "sample_test_data_acccuracy_df = pd.DataFrame(sample_test_data_accuracy, columns = ['Tagging Method', 'Tagging Accuracy'])\n",
    "\n",
    "sample_test_data_acccuracy_df.set_index('Tagging Method', drop = True, inplace = True)\n",
    "\n",
    "sample_test_data_acccuracy_df = sample_test_data_acccuracy_df.sort_values(by='Tagging Accuracy', ascending=False)\n",
    "sample_test_data_acccuracy_df"
   ]
  },
  {
   "cell_type": "markdown",
   "metadata": {},
   "source": [
    "From the above result, we can see that the Viterbi Algo with Trigram Tagger works with ~93% accuracy."
   ]
  },
  {
   "cell_type": "markdown",
   "metadata": {},
   "source": [
    "### List down cases which were incorrectly tagged by original POS tagger and got corrected by your modifications:"
   ]
  },
  {
   "cell_type": "code",
   "execution_count": 46,
   "metadata": {},
   "outputs": [],
   "source": [
    "test_sentence_1 = sample_test['Test_Samples'][0]\n",
    "test_sentence_2 = sample_test['Test_Samples'][1]\n",
    "test_sentence_3 = sample_test['Test_Samples'][2]\n",
    "test_sentence_4 = sample_test['Test_Samples'][3]\n",
    "test_sentence_5 = sample_test['Test_Samples'][4]\n",
    "test_sentence_6 = sample_test['Test_Samples'][5]\n",
    "test_sentence_7 = sample_test['Test_Samples'][6]\n",
    "test_sentence_8 = sample_test['Test_Samples'][7]\n",
    "test_sentence_9 = sample_test['Test_Samples'][8]\n",
    "test_sentence_10 = sample_test['Test_Samples'][9]\n",
    "test_sentence_11 = sample_test['Test_Samples'][10]"
   ]
  },
  {
   "cell_type": "markdown",
   "metadata": {},
   "source": [
    "### Case 1:"
   ]
  },
  {
   "cell_type": "markdown",
   "metadata": {},
   "source": [
    "##### Let's try the first with first test sample sentence 'Android is a mobile operating system developed by Google.'"
   ]
  },
  {
   "cell_type": "code",
   "execution_count": 47,
   "metadata": {},
   "outputs": [
    {
     "name": "stdout",
     "output_type": "stream",
     "text": [
      "Tagging sequence (Vanilla_Viterbi):\n",
      "\n",
      "[('Android', 'DET'), ('is', 'VERB'), ('a', 'DET'), ('mobile', 'ADJ'), ('operating', 'NOUN'), ('system', 'NOUN'), ('developed', 'VERB'), ('by', 'ADP'), ('Google', 'DET'), ('.', '.')]\n",
      "************************************************************************************************************************\n",
      "\n",
      "Tagging sequence (viterbi_backedup_by_trigram_tagger):\n",
      "\n",
      "[('Android', 'NOUN'), ('is', 'VERB'), ('a', 'DET'), ('mobile', 'ADJ'), ('operating', 'NOUN'), ('system', 'NOUN'), ('developed', 'VERB'), ('by', 'ADP'), ('Google', 'NOUN'), ('.', '.')]\n"
     ]
    }
   ],
   "source": [
    "words_test_sentence_1 = nltk.word_tokenize(test_sentence_1)\n",
    "\n",
    "# Vanilla_Viterbi POS Tags:\n",
    "vanilla_viterbi_pos_tagged_sequence_1 = Vanilla_Viterbi(words_test_sentence_1)\n",
    "print(\"Tagging sequence (Vanilla_Viterbi):\\n\\n{}\".format(vanilla_viterbi_pos_tagged_sequence_1))\n",
    "\n",
    "print('*' * 120)\n",
    "\n",
    "# Viterbi_backedup_by_trigram_tagger POS Tags:\n",
    "viterbi_trigram_pos_tagged_sequence_1 = viterbi_backedup_by_trigram_tagger(words_test_sentence_1)\n",
    "print(\"\\nTagging sequence (viterbi_backedup_by_trigram_tagger):\\n\\n{}\".format(viterbi_trigram_pos_tagged_sequence_1))"
   ]
  },
  {
   "cell_type": "code",
   "execution_count": 48,
   "metadata": {},
   "outputs": [
    {
     "data": {
      "text/html": [
       "<div>\n",
       "<style scoped>\n",
       "    .dataframe tbody tr th:only-of-type {\n",
       "        vertical-align: middle;\n",
       "    }\n",
       "\n",
       "    .dataframe tbody tr th {\n",
       "        vertical-align: top;\n",
       "    }\n",
       "\n",
       "    .dataframe thead th {\n",
       "        text-align: right;\n",
       "    }\n",
       "</style>\n",
       "<table border=\"1\" class=\"dataframe\">\n",
       "  <thead>\n",
       "    <tr style=\"text-align: right;\">\n",
       "      <th></th>\n",
       "      <th>Vanilla_Viterbi_Tags</th>\n",
       "      <th>Corrected_Tags_With_Viterbi_Trigram</th>\n",
       "    </tr>\n",
       "  </thead>\n",
       "  <tbody>\n",
       "    <tr>\n",
       "      <th>0</th>\n",
       "      <td>(Android, DET)</td>\n",
       "      <td>(Android, NOUN)</td>\n",
       "    </tr>\n",
       "    <tr>\n",
       "      <th>1</th>\n",
       "      <td>(is, VERB)</td>\n",
       "      <td>(is, VERB)</td>\n",
       "    </tr>\n",
       "    <tr>\n",
       "      <th>2</th>\n",
       "      <td>(a, DET)</td>\n",
       "      <td>(a, DET)</td>\n",
       "    </tr>\n",
       "    <tr>\n",
       "      <th>3</th>\n",
       "      <td>(mobile, ADJ)</td>\n",
       "      <td>(mobile, ADJ)</td>\n",
       "    </tr>\n",
       "    <tr>\n",
       "      <th>4</th>\n",
       "      <td>(operating, NOUN)</td>\n",
       "      <td>(operating, NOUN)</td>\n",
       "    </tr>\n",
       "    <tr>\n",
       "      <th>5</th>\n",
       "      <td>(system, NOUN)</td>\n",
       "      <td>(system, NOUN)</td>\n",
       "    </tr>\n",
       "    <tr>\n",
       "      <th>6</th>\n",
       "      <td>(developed, VERB)</td>\n",
       "      <td>(developed, VERB)</td>\n",
       "    </tr>\n",
       "    <tr>\n",
       "      <th>7</th>\n",
       "      <td>(by, ADP)</td>\n",
       "      <td>(by, ADP)</td>\n",
       "    </tr>\n",
       "    <tr>\n",
       "      <th>8</th>\n",
       "      <td>(Google, DET)</td>\n",
       "      <td>(Google, NOUN)</td>\n",
       "    </tr>\n",
       "    <tr>\n",
       "      <th>9</th>\n",
       "      <td>(., .)</td>\n",
       "      <td>(., .)</td>\n",
       "    </tr>\n",
       "  </tbody>\n",
       "</table>\n",
       "</div>"
      ],
      "text/plain": [
       "  Vanilla_Viterbi_Tags Corrected_Tags_With_Viterbi_Trigram\n",
       "0       (Android, DET)                     (Android, NOUN)\n",
       "1           (is, VERB)                          (is, VERB)\n",
       "2             (a, DET)                            (a, DET)\n",
       "3        (mobile, ADJ)                       (mobile, ADJ)\n",
       "4    (operating, NOUN)                   (operating, NOUN)\n",
       "5       (system, NOUN)                      (system, NOUN)\n",
       "6    (developed, VERB)                   (developed, VERB)\n",
       "7            (by, ADP)                           (by, ADP)\n",
       "8        (Google, DET)                      (Google, NOUN)\n",
       "9               (., .)                              (., .)"
      ]
     },
     "execution_count": 48,
     "metadata": {},
     "output_type": "execute_result"
    }
   ],
   "source": [
    "correction_of_tags_1 = pd.DataFrame(columns = ['Vanilla_Viterbi_Tags', 'Corrected_Tags_With_Viterbi_Trigram'])\n",
    "correction_of_tags_1 = correction_of_tags_1.fillna(0)\n",
    "\n",
    "correction_of_tags_1['Vanilla_Viterbi_Tags'] = [tup for tup in vanilla_viterbi_pos_tagged_sequence_1]\n",
    "correction_of_tags_1['Corrected_Tags_With_Viterbi_Trigram'] = [tup for tup in viterbi_trigram_pos_tagged_sequence_1]\n",
    "\n",
    "correction_of_tags_1"
   ]
  },
  {
   "cell_type": "markdown",
   "metadata": {},
   "source": [
    "From the above table, we can see that Android and Google tagged which are wrongly tagged in Vanilla Viterbi, are now tagged with NOUN in Viterbi Tigram."
   ]
  },
  {
   "cell_type": "markdown",
   "metadata": {},
   "source": [
    "### Case 2:"
   ]
  },
  {
   "cell_type": "markdown",
   "metadata": {},
   "source": [
    "##### Let's try the with 6th test sample sentence 'The 2018 FIFA World Cup is the 21st FIFA World Cup, an international football tournament contested once every four years.'"
   ]
  },
  {
   "cell_type": "code",
   "execution_count": 49,
   "metadata": {},
   "outputs": [
    {
     "name": "stdout",
     "output_type": "stream",
     "text": [
      "Tagging sequence (Vanilla_Viterbi):\n",
      "\n",
      "[('The', 'DET'), ('2018', 'DET'), ('FIFA', 'DET'), ('World', 'NOUN'), ('Cup', 'DET'), ('is', 'VERB'), ('the', 'DET'), ('21st', 'DET'), ('FIFA', 'DET'), ('World', 'NOUN'), ('Cup', 'DET'), (',', '.'), ('an', 'DET'), ('international', 'ADJ'), ('football', 'NOUN'), ('tournament', 'DET'), ('contested', 'DET'), ('once', 'ADV'), ('every', 'DET'), ('four', 'NUM'), ('years', 'NOUN'), ('.', '.')]\n",
      "\n",
      "\n",
      "****************************************************************************************************\n",
      "\n",
      "Tagging sequence (viterbi_backedup_by_trigram_tagger):\n",
      "\n",
      "[('The', 'DET'), ('2018', 'NUM'), ('FIFA', 'NOUN'), ('World', 'NOUN'), ('Cup', 'NOUN'), ('is', 'VERB'), ('the', 'DET'), ('21st', 'NUM'), ('FIFA', 'NOUN'), ('World', 'NOUN'), ('Cup', 'NOUN'), (',', '.'), ('an', 'DET'), ('international', 'ADJ'), ('football', 'NOUN'), ('tournament', 'NOUN'), ('contested', 'VERB'), ('once', 'ADV'), ('every', 'DET'), ('four', 'NUM'), ('years', 'NOUN'), ('.', '.')]\n"
     ]
    }
   ],
   "source": [
    "words_test_sentence_6 = nltk.word_tokenize(test_sentence_6)\n",
    "\n",
    "# Vanilla_Viterbi POS Tags:\n",
    "vanilla_viterbi_pos_tagged_sequence_6 = Vanilla_Viterbi(words_test_sentence_6)\n",
    "print(\"Tagging sequence (Vanilla_Viterbi):\\n\\n{}\".format(vanilla_viterbi_pos_tagged_sequence_6))\n",
    "\n",
    "print('\\n')\n",
    "print('*' * 100)\n",
    "\n",
    "# Viterbi_backedup_by_trigram_tagger POS Tags:\n",
    "viterbi_trigram_pos_tagged_sequence_6 = viterbi_backedup_by_trigram_tagger(words_test_sentence_6)\n",
    "print(\"\\nTagging sequence (viterbi_backedup_by_trigram_tagger):\\n\\n{}\".format(viterbi_trigram_pos_tagged_sequence_6))"
   ]
  },
  {
   "cell_type": "code",
   "execution_count": 50,
   "metadata": {},
   "outputs": [
    {
     "data": {
      "text/html": [
       "<div>\n",
       "<style scoped>\n",
       "    .dataframe tbody tr th:only-of-type {\n",
       "        vertical-align: middle;\n",
       "    }\n",
       "\n",
       "    .dataframe tbody tr th {\n",
       "        vertical-align: top;\n",
       "    }\n",
       "\n",
       "    .dataframe thead th {\n",
       "        text-align: right;\n",
       "    }\n",
       "</style>\n",
       "<table border=\"1\" class=\"dataframe\">\n",
       "  <thead>\n",
       "    <tr style=\"text-align: right;\">\n",
       "      <th></th>\n",
       "      <th>Vanilla_Viterbi_Tags</th>\n",
       "      <th>Corrected_Tags_With_Viterbi_Trigram</th>\n",
       "    </tr>\n",
       "  </thead>\n",
       "  <tbody>\n",
       "    <tr>\n",
       "      <th>0</th>\n",
       "      <td>(The, DET)</td>\n",
       "      <td>(The, DET)</td>\n",
       "    </tr>\n",
       "    <tr>\n",
       "      <th>1</th>\n",
       "      <td>(2018, DET)</td>\n",
       "      <td>(2018, NUM)</td>\n",
       "    </tr>\n",
       "    <tr>\n",
       "      <th>2</th>\n",
       "      <td>(FIFA, DET)</td>\n",
       "      <td>(FIFA, NOUN)</td>\n",
       "    </tr>\n",
       "    <tr>\n",
       "      <th>3</th>\n",
       "      <td>(World, NOUN)</td>\n",
       "      <td>(World, NOUN)</td>\n",
       "    </tr>\n",
       "    <tr>\n",
       "      <th>4</th>\n",
       "      <td>(Cup, DET)</td>\n",
       "      <td>(Cup, NOUN)</td>\n",
       "    </tr>\n",
       "    <tr>\n",
       "      <th>5</th>\n",
       "      <td>(is, VERB)</td>\n",
       "      <td>(is, VERB)</td>\n",
       "    </tr>\n",
       "    <tr>\n",
       "      <th>6</th>\n",
       "      <td>(the, DET)</td>\n",
       "      <td>(the, DET)</td>\n",
       "    </tr>\n",
       "    <tr>\n",
       "      <th>7</th>\n",
       "      <td>(21st, DET)</td>\n",
       "      <td>(21st, NUM)</td>\n",
       "    </tr>\n",
       "    <tr>\n",
       "      <th>8</th>\n",
       "      <td>(FIFA, DET)</td>\n",
       "      <td>(FIFA, NOUN)</td>\n",
       "    </tr>\n",
       "    <tr>\n",
       "      <th>9</th>\n",
       "      <td>(World, NOUN)</td>\n",
       "      <td>(World, NOUN)</td>\n",
       "    </tr>\n",
       "    <tr>\n",
       "      <th>10</th>\n",
       "      <td>(Cup, DET)</td>\n",
       "      <td>(Cup, NOUN)</td>\n",
       "    </tr>\n",
       "    <tr>\n",
       "      <th>11</th>\n",
       "      <td>(,, .)</td>\n",
       "      <td>(,, .)</td>\n",
       "    </tr>\n",
       "    <tr>\n",
       "      <th>12</th>\n",
       "      <td>(an, DET)</td>\n",
       "      <td>(an, DET)</td>\n",
       "    </tr>\n",
       "    <tr>\n",
       "      <th>13</th>\n",
       "      <td>(international, ADJ)</td>\n",
       "      <td>(international, ADJ)</td>\n",
       "    </tr>\n",
       "    <tr>\n",
       "      <th>14</th>\n",
       "      <td>(football, NOUN)</td>\n",
       "      <td>(football, NOUN)</td>\n",
       "    </tr>\n",
       "    <tr>\n",
       "      <th>15</th>\n",
       "      <td>(tournament, DET)</td>\n",
       "      <td>(tournament, NOUN)</td>\n",
       "    </tr>\n",
       "    <tr>\n",
       "      <th>16</th>\n",
       "      <td>(contested, DET)</td>\n",
       "      <td>(contested, VERB)</td>\n",
       "    </tr>\n",
       "    <tr>\n",
       "      <th>17</th>\n",
       "      <td>(once, ADV)</td>\n",
       "      <td>(once, ADV)</td>\n",
       "    </tr>\n",
       "    <tr>\n",
       "      <th>18</th>\n",
       "      <td>(every, DET)</td>\n",
       "      <td>(every, DET)</td>\n",
       "    </tr>\n",
       "    <tr>\n",
       "      <th>19</th>\n",
       "      <td>(four, NUM)</td>\n",
       "      <td>(four, NUM)</td>\n",
       "    </tr>\n",
       "    <tr>\n",
       "      <th>20</th>\n",
       "      <td>(years, NOUN)</td>\n",
       "      <td>(years, NOUN)</td>\n",
       "    </tr>\n",
       "    <tr>\n",
       "      <th>21</th>\n",
       "      <td>(., .)</td>\n",
       "      <td>(., .)</td>\n",
       "    </tr>\n",
       "  </tbody>\n",
       "</table>\n",
       "</div>"
      ],
      "text/plain": [
       "    Vanilla_Viterbi_Tags Corrected_Tags_With_Viterbi_Trigram\n",
       "0             (The, DET)                          (The, DET)\n",
       "1            (2018, DET)                         (2018, NUM)\n",
       "2            (FIFA, DET)                        (FIFA, NOUN)\n",
       "3          (World, NOUN)                       (World, NOUN)\n",
       "4             (Cup, DET)                         (Cup, NOUN)\n",
       "5             (is, VERB)                          (is, VERB)\n",
       "6             (the, DET)                          (the, DET)\n",
       "7            (21st, DET)                         (21st, NUM)\n",
       "8            (FIFA, DET)                        (FIFA, NOUN)\n",
       "9          (World, NOUN)                       (World, NOUN)\n",
       "10            (Cup, DET)                         (Cup, NOUN)\n",
       "11                (,, .)                              (,, .)\n",
       "12             (an, DET)                           (an, DET)\n",
       "13  (international, ADJ)                (international, ADJ)\n",
       "14      (football, NOUN)                    (football, NOUN)\n",
       "15     (tournament, DET)                  (tournament, NOUN)\n",
       "16      (contested, DET)                   (contested, VERB)\n",
       "17           (once, ADV)                         (once, ADV)\n",
       "18          (every, DET)                        (every, DET)\n",
       "19           (four, NUM)                         (four, NUM)\n",
       "20         (years, NOUN)                       (years, NOUN)\n",
       "21                (., .)                              (., .)"
      ]
     },
     "execution_count": 50,
     "metadata": {},
     "output_type": "execute_result"
    }
   ],
   "source": [
    "correction_of_tags_6 = pd.DataFrame(columns = ['Vanilla_Viterbi_Tags', 'Corrected_Tags_With_Viterbi_Trigram'])\n",
    "correction_of_tags_6 = correction_of_tags_6.fillna(0)\n",
    "\n",
    "correction_of_tags_6['Vanilla_Viterbi_Tags'] = [tup for tup in vanilla_viterbi_pos_tagged_sequence_6]\n",
    "correction_of_tags_6['Corrected_Tags_With_Viterbi_Trigram'] = [tup for tup in viterbi_trigram_pos_tagged_sequence_6]\n",
    "\n",
    "correction_of_tags_6"
   ]
  },
  {
   "cell_type": "markdown",
   "metadata": {},
   "source": [
    "As per the above results, it is obseved that tags for words 2018, FIFA, Cup, 21st etc are correctly tagged with the algo viterbi backed up by the trigram tagger."
   ]
  },
  {
   "cell_type": "markdown",
   "metadata": {},
   "source": [
    "### Case 3:"
   ]
  },
  {
   "cell_type": "markdown",
   "metadata": {},
   "source": [
    "##### Let's try the with 8th test sample sentence 'Show me the cheapest round trips from Dallas to Atlanta'.:"
   ]
  },
  {
   "cell_type": "code",
   "execution_count": 51,
   "metadata": {},
   "outputs": [
    {
     "name": "stdout",
     "output_type": "stream",
     "text": [
      "Tagging sequence (Vanilla_Viterbi):\n",
      "\n",
      "[('Show', 'NOUN'), ('me', 'PRON'), ('the', 'DET'), ('cheapest', 'ADJ'), ('round', 'NOUN'), ('trips', 'DET'), ('from', 'ADP'), ('Dallas', 'NOUN'), ('to', 'PRT'), ('Atlanta', 'NOUN')]\n",
      "\n",
      "\n",
      "------------------------------------------------------------------------------------------------------------------------\n",
      "\n",
      "Tagging sequence (viterbi_backedup_by_trigram_tagger):\n",
      "\n",
      "[('Show', 'NOUN'), ('me', 'PRON'), ('the', 'DET'), ('cheapest', 'ADJ'), ('round', 'NOUN'), ('trips', 'NOUN'), ('from', 'ADP'), ('Dallas', 'NOUN'), ('to', 'PRT'), ('Atlanta', 'NOUN')]\n"
     ]
    }
   ],
   "source": [
    "words_test_sentence_8 = nltk.word_tokenize(test_sentence_8)\n",
    "\n",
    "# Vanilla_Viterbi POS Tags:\n",
    "vanilla_viterbi_pos_tagged_sequence_8 = Vanilla_Viterbi(words_test_sentence_8)\n",
    "print(\"Tagging sequence (Vanilla_Viterbi):\\n\\n{}\".format(vanilla_viterbi_pos_tagged_sequence_8))\n",
    "\n",
    "print('\\n')\n",
    "print('-'*120)\n",
    "\n",
    "# Viterbi_backedup_by_trigram_tagger POS Tags:\n",
    "viterbi_trigram_pos_tagged_sequence_8 = viterbi_backedup_by_trigram_tagger(words_test_sentence_8)\n",
    "print(\"\\nTagging sequence (viterbi_backedup_by_trigram_tagger):\\n\\n{}\".format(viterbi_trigram_pos_tagged_sequence_8))"
   ]
  },
  {
   "cell_type": "code",
   "execution_count": 52,
   "metadata": {},
   "outputs": [
    {
     "data": {
      "text/html": [
       "<div>\n",
       "<style scoped>\n",
       "    .dataframe tbody tr th:only-of-type {\n",
       "        vertical-align: middle;\n",
       "    }\n",
       "\n",
       "    .dataframe tbody tr th {\n",
       "        vertical-align: top;\n",
       "    }\n",
       "\n",
       "    .dataframe thead th {\n",
       "        text-align: right;\n",
       "    }\n",
       "</style>\n",
       "<table border=\"1\" class=\"dataframe\">\n",
       "  <thead>\n",
       "    <tr style=\"text-align: right;\">\n",
       "      <th></th>\n",
       "      <th>Vanilla_Viterbi_Tags</th>\n",
       "      <th>Corrected_Tags_With_Viterbi_Trigram</th>\n",
       "    </tr>\n",
       "  </thead>\n",
       "  <tbody>\n",
       "    <tr>\n",
       "      <th>0</th>\n",
       "      <td>(Show, NOUN)</td>\n",
       "      <td>(Show, NOUN)</td>\n",
       "    </tr>\n",
       "    <tr>\n",
       "      <th>1</th>\n",
       "      <td>(me, PRON)</td>\n",
       "      <td>(me, PRON)</td>\n",
       "    </tr>\n",
       "    <tr>\n",
       "      <th>2</th>\n",
       "      <td>(the, DET)</td>\n",
       "      <td>(the, DET)</td>\n",
       "    </tr>\n",
       "    <tr>\n",
       "      <th>3</th>\n",
       "      <td>(cheapest, ADJ)</td>\n",
       "      <td>(cheapest, ADJ)</td>\n",
       "    </tr>\n",
       "    <tr>\n",
       "      <th>4</th>\n",
       "      <td>(round, NOUN)</td>\n",
       "      <td>(round, NOUN)</td>\n",
       "    </tr>\n",
       "    <tr>\n",
       "      <th>5</th>\n",
       "      <td>(trips, DET)</td>\n",
       "      <td>(trips, NOUN)</td>\n",
       "    </tr>\n",
       "    <tr>\n",
       "      <th>6</th>\n",
       "      <td>(from, ADP)</td>\n",
       "      <td>(from, ADP)</td>\n",
       "    </tr>\n",
       "    <tr>\n",
       "      <th>7</th>\n",
       "      <td>(Dallas, NOUN)</td>\n",
       "      <td>(Dallas, NOUN)</td>\n",
       "    </tr>\n",
       "    <tr>\n",
       "      <th>8</th>\n",
       "      <td>(to, PRT)</td>\n",
       "      <td>(to, PRT)</td>\n",
       "    </tr>\n",
       "    <tr>\n",
       "      <th>9</th>\n",
       "      <td>(Atlanta, NOUN)</td>\n",
       "      <td>(Atlanta, NOUN)</td>\n",
       "    </tr>\n",
       "  </tbody>\n",
       "</table>\n",
       "</div>"
      ],
      "text/plain": [
       "  Vanilla_Viterbi_Tags Corrected_Tags_With_Viterbi_Trigram\n",
       "0         (Show, NOUN)                        (Show, NOUN)\n",
       "1           (me, PRON)                          (me, PRON)\n",
       "2           (the, DET)                          (the, DET)\n",
       "3      (cheapest, ADJ)                     (cheapest, ADJ)\n",
       "4        (round, NOUN)                       (round, NOUN)\n",
       "5         (trips, DET)                       (trips, NOUN)\n",
       "6          (from, ADP)                         (from, ADP)\n",
       "7       (Dallas, NOUN)                      (Dallas, NOUN)\n",
       "8            (to, PRT)                           (to, PRT)\n",
       "9      (Atlanta, NOUN)                     (Atlanta, NOUN)"
      ]
     },
     "execution_count": 52,
     "metadata": {},
     "output_type": "execute_result"
    }
   ],
   "source": [
    "correction_of_tags_8 = pd.DataFrame(columns = ['Vanilla_Viterbi_Tags', 'Corrected_Tags_With_Viterbi_Trigram'])\n",
    "correction_of_tags_8 = correction_of_tags_8.fillna(0)\n",
    "\n",
    "correction_of_tags_8['Vanilla_Viterbi_Tags'] = [tup for tup in vanilla_viterbi_pos_tagged_sequence_8]\n",
    "correction_of_tags_8['Corrected_Tags_With_Viterbi_Trigram'] = [tup for tup in viterbi_trigram_pos_tagged_sequence_8]\n",
    "\n",
    "correction_of_tags_8"
   ]
  },
  {
   "cell_type": "markdown",
   "metadata": {},
   "source": [
    "It is observed from the above results taht the tag for word 'trips' has been corrected in viterbi trigram algo."
   ]
  },
  {
   "cell_type": "markdown",
   "metadata": {},
   "source": [
    "**Let's use this sample test data with both the techniques we used above.**\n",
    "##### Technique 1: Used only the transition probability for unknown words.\n",
    "##### Technique 2: used the viterbi algorithm and backed it up with the trigram tagger which was backed up by the rule based regex tagger."
   ]
  },
  {
   "cell_type": "code",
   "execution_count": 53,
   "metadata": {},
   "outputs": [
    {
     "name": "stdout",
     "output_type": "stream",
     "text": [
      "Tagging sequence with Vanilla_Viterbi:\n",
      "\n",
      "[('Android', 'DET'), ('is', 'VERB'), ('a', 'DET'), ('mobile', 'ADJ'), ('operating', 'NOUN'), ('system', 'NOUN'), ('developed', 'VERB'), ('by', 'ADP'), ('Google', 'DET'), ('.', '.'), ('Android', 'DET'), ('has', 'VERB'), ('been', 'VERB'), ('the', 'DET'), ('best-selling', 'ADJ'), ('OS', 'DET'), ('worldwide', 'DET'), ('on', 'ADP'), ('smartphones', 'DET'), ('since', 'ADP'), ('2011', 'DET'), ('and', 'CONJ'), ('on', 'ADP'), ('tablets', 'NOUN'), ('since', 'ADP'), ('2013', 'DET'), ('.', '.'), ('Google', 'DET'), ('and', 'CONJ'), ('Twitter', 'DET'), ('made', 'VERB'), ('a', 'DET'), ('deal', 'NOUN'), ('in', 'ADP'), ('2015', 'DET'), ('that', 'ADP'), ('gave', 'VERB'), ('Google', 'DET'), ('access', 'NOUN'), ('to', 'PRT'), ('Twitter', 'DET'), (\"'s\", 'VERB'), ('firehose', 'DET'), ('.', '.'), ('Twitter', 'DET'), ('is', 'VERB'), ('an', 'DET'), ('online', 'DET'), ('news', 'NOUN'), ('and', 'CONJ'), ('social', 'ADJ'), ('networking', 'NOUN'), ('service', 'NOUN'), ('on', 'ADP'), ('which', 'DET'), ('users', 'NOUN'), ('post', 'NOUN'), ('and', 'CONJ'), ('interact', 'DET'), ('with', 'ADP'), ('messages', 'DET'), ('known', 'VERB'), ('as', 'ADP'), ('tweets', 'DET'), ('.', '.'), ('Before', 'ADP'), ('entering', 'VERB'), ('politics', 'NOUN'), (',', '.'), ('Donald', 'NOUN'), ('Trump', 'NOUN'), ('was', 'VERB'), ('a', 'DET'), ('domineering', 'DET'), ('businessman', 'NOUN'), ('and', 'CONJ'), ('a', 'DET'), ('television', 'NOUN'), ('personality', 'DET'), ('.', '.'), ('The', 'DET'), ('2018', 'DET'), ('FIFA', 'DET'), ('World', 'NOUN'), ('Cup', 'DET'), ('is', 'VERB'), ('the', 'DET'), ('21st', 'DET'), ('FIFA', 'DET'), ('World', 'NOUN'), ('Cup', 'DET'), (',', '.'), ('an', 'DET'), ('international', 'ADJ'), ('football', 'NOUN'), ('tournament', 'DET'), ('contested', 'DET'), ('once', 'ADV'), ('every', 'DET'), ('four', 'NUM'), ('years', 'NOUN'), ('.', '.'), ('This', 'DET'), ('is', 'VERB'), ('the', 'DET'), ('first', 'ADJ'), ('World', 'NOUN'), ('Cup', 'DET'), ('to', 'PRT'), ('be', 'VERB'), ('held', 'VERB'), ('in', 'ADP'), ('Eastern', 'NOUN'), ('Europe', 'NOUN'), ('and', 'CONJ'), ('the', 'DET'), ('11th', 'ADJ'), ('time', 'NOUN'), ('that', 'ADP'), ('it', 'PRON'), ('has', 'VERB'), ('been', 'VERB'), ('held', 'VERB'), ('in', 'ADP'), ('Europe', 'NOUN'), ('.', '.'), ('Show', 'NOUN'), ('me', 'PRON'), ('the', 'DET'), ('cheapest', 'ADJ'), ('round', 'NOUN'), ('trips', 'DET'), ('from', 'ADP'), ('Dallas', 'NOUN'), ('to', 'PRT'), ('Atlanta', 'NOUN'), ('I', 'PRON'), ('would', 'VERB'), ('like', 'ADP'), ('to', 'PRT'), ('see', 'VERB'), ('flights', 'NOUN'), ('from', 'ADP'), ('Denver', 'NOUN'), ('to', 'PRT'), ('Philadelphia', 'NOUN'), ('.', '.'), ('Show', 'NOUN'), ('me', 'PRON'), ('the', 'DET'), ('price', 'NOUN'), ('of', 'ADP'), ('the', 'DET'), ('flights', 'NOUN'), ('leaving', 'VERB'), ('Atlanta', 'NOUN'), ('at', 'ADP'), ('about', 'ADP'), ('3', 'NUM'), ('in', 'ADP'), ('the', 'DET'), ('afternoon', 'NOUN'), ('and', 'CONJ'), ('arriving', 'DET'), ('in', 'ADP'), ('San', 'NOUN'), ('Francisco', 'NOUN'), ('.', '.'), ('NASA', 'DET'), ('invited', 'DET'), ('social', 'ADJ'), ('media', 'NOUN'), ('users', 'NOUN'), ('to', 'PRT'), ('experience', 'NOUN'), ('the', 'DET'), ('launch', 'NOUN'), ('of', 'ADP'), ('ICESAT-2', 'DET'), ('Satellite', 'DET'), ('.', '.')]\n",
      "****************************************************************************************************\n",
      "Technique 1:\n",
      "Tagging sequence with viterbi using only transition probability:\n",
      "\n",
      "[('Android', 'NOUN'), ('is', 'VERB'), ('a', 'DET'), ('mobile', 'ADJ'), ('operating', 'NOUN'), ('system', 'NOUN'), ('developed', 'VERB'), ('by', 'ADP'), ('Google', 'DET'), ('.', '.'), ('Android', 'NOUN'), ('has', 'VERB'), ('been', 'VERB'), ('the', 'DET'), ('best-selling', 'ADJ'), ('OS', 'NOUN'), ('worldwide', 'NOUN'), ('on', 'ADP'), ('smartphones', 'DET'), ('since', 'ADP'), ('2011', 'DET'), ('and', 'CONJ'), ('on', 'ADP'), ('tablets', 'NOUN'), ('since', 'ADP'), ('2013', 'DET'), ('.', '.'), ('Google', 'NOUN'), ('and', 'CONJ'), ('Twitter', 'NOUN'), ('made', 'VERB'), ('a', 'DET'), ('deal', 'NOUN'), ('in', 'ADP'), ('2015', 'DET'), ('that', 'ADP'), ('gave', 'VERB'), ('Google', 'X'), ('access', 'NOUN'), ('to', 'PRT'), ('Twitter', 'VERB'), (\"'s\", 'PRT'), ('firehose', 'VERB'), ('.', '.'), ('Twitter', 'NOUN'), ('is', 'VERB'), ('an', 'DET'), ('online', 'NOUN'), ('news', 'NOUN'), ('and', 'CONJ'), ('social', 'ADJ'), ('networking', 'NOUN'), ('service', 'NOUN'), ('on', 'ADP'), ('which', 'DET'), ('users', 'NOUN'), ('post', 'NOUN'), ('and', 'CONJ'), ('interact', 'NOUN'), ('with', 'ADP'), ('messages', 'DET'), ('known', 'VERB'), ('as', 'ADP'), ('tweets', 'DET'), ('.', '.'), ('Before', 'ADP'), ('entering', 'VERB'), ('politics', 'NOUN'), (',', '.'), ('Donald', 'NOUN'), ('Trump', 'NOUN'), ('was', 'VERB'), ('a', 'DET'), ('domineering', 'NOUN'), ('businessman', 'NOUN'), ('and', 'CONJ'), ('a', 'DET'), ('television', 'NOUN'), ('personality', 'NOUN'), ('.', '.'), ('The', 'DET'), ('2018', 'NOUN'), ('FIFA', 'NOUN'), ('World', 'NOUN'), ('Cup', 'NOUN'), ('is', 'VERB'), ('the', 'DET'), ('21st', 'NOUN'), ('FIFA', 'NOUN'), ('World', 'NOUN'), ('Cup', 'NOUN'), (',', '.'), ('an', 'DET'), ('international', 'ADJ'), ('football', 'NOUN'), ('tournament', 'NOUN'), ('contested', 'NOUN'), ('once', 'ADV'), ('every', 'DET'), ('four', 'NUM'), ('years', 'NOUN'), ('.', '.'), ('This', 'DET'), ('is', 'VERB'), ('the', 'DET'), ('first', 'ADJ'), ('World', 'NOUN'), ('Cup', 'NOUN'), ('to', 'PRT'), ('be', 'VERB'), ('held', 'VERB'), ('in', 'ADP'), ('Eastern', 'NOUN'), ('Europe', 'NOUN'), ('and', 'CONJ'), ('the', 'DET'), ('11th', 'ADJ'), ('time', 'NOUN'), ('that', 'ADP'), ('it', 'PRON'), ('has', 'VERB'), ('been', 'VERB'), ('held', 'VERB'), ('in', 'ADP'), ('Europe', 'NOUN'), ('.', '.'), ('Show', 'NOUN'), ('me', 'PRON'), ('the', 'DET'), ('cheapest', 'ADJ'), ('round', 'NOUN'), ('trips', 'NOUN'), ('from', 'ADP'), ('Dallas', 'NOUN'), ('to', 'PRT'), ('Atlanta', 'NOUN'), ('I', 'PRON'), ('would', 'VERB'), ('like', 'ADP'), ('to', 'PRT'), ('see', 'VERB'), ('flights', 'NOUN'), ('from', 'ADP'), ('Denver', 'NOUN'), ('to', 'PRT'), ('Philadelphia', 'NOUN'), ('.', '.'), ('Show', 'NOUN'), ('me', 'PRON'), ('the', 'DET'), ('price', 'NOUN'), ('of', 'ADP'), ('the', 'DET'), ('flights', 'NOUN'), ('leaving', 'VERB'), ('Atlanta', 'NOUN'), ('at', 'ADP'), ('about', 'ADP'), ('3', 'NUM'), ('in', 'ADP'), ('the', 'DET'), ('afternoon', 'NOUN'), ('and', 'CONJ'), ('arriving', 'NOUN'), ('in', 'ADP'), ('San', 'NOUN'), ('Francisco', 'NOUN'), ('.', '.'), ('NASA', 'NOUN'), ('invited', 'NOUN'), ('social', 'ADJ'), ('media', 'NOUN'), ('users', 'NOUN'), ('to', 'PRT'), ('experience', 'NOUN'), ('the', 'DET'), ('launch', 'NOUN'), ('of', 'ADP'), ('ICESAT-2', 'DET'), ('Satellite', 'NOUN'), ('.', '.')]\n",
      "\n",
      "\n",
      "****************************************************************************************************\n",
      "Technique 2:\n",
      "Tagging sequence with viterbi_backedup_by_trigram_tagger:\n",
      "\n",
      "[('Android', 'NOUN'), ('is', 'VERB'), ('a', 'DET'), ('mobile', 'ADJ'), ('operating', 'NOUN'), ('system', 'NOUN'), ('developed', 'VERB'), ('by', 'ADP'), ('Google', 'NOUN'), ('.', '.'), ('Android', 'NOUN'), ('has', 'VERB'), ('been', 'VERB'), ('the', 'DET'), ('best-selling', 'ADJ'), ('OS', 'NOUN'), ('worldwide', 'NOUN'), ('on', 'ADP'), ('smartphones', 'VERB'), ('since', 'ADP'), ('2011', 'NUM'), ('and', 'CONJ'), ('on', 'ADP'), ('tablets', 'NOUN'), ('since', 'ADP'), ('2013', 'NUM'), ('.', '.'), ('Google', 'NOUN'), ('and', 'CONJ'), ('Twitter', 'NOUN'), ('made', 'VERB'), ('a', 'DET'), ('deal', 'NOUN'), ('in', 'ADP'), ('2015', 'NUM'), ('that', 'ADP'), ('gave', 'VERB'), ('Google', 'NOUN'), ('access', 'NOUN'), ('to', 'PRT'), ('Twitter', 'NOUN'), (\"'s\", 'PRT'), ('firehose', 'NOUN'), ('.', '.'), ('Twitter', 'NOUN'), ('is', 'VERB'), ('an', 'DET'), ('online', 'NOUN'), ('news', 'NOUN'), ('and', 'CONJ'), ('social', 'ADJ'), ('networking', 'NOUN'), ('service', 'NOUN'), ('on', 'ADP'), ('which', 'DET'), ('users', 'NOUN'), ('post', 'NOUN'), ('and', 'CONJ'), ('interact', 'NOUN'), ('with', 'ADP'), ('messages', 'VERB'), ('known', 'VERB'), ('as', 'ADP'), ('tweets', 'NOUN'), ('.', '.'), ('Before', 'ADP'), ('entering', 'VERB'), ('politics', 'NOUN'), (',', '.'), ('Donald', 'NOUN'), ('Trump', 'NOUN'), ('was', 'VERB'), ('a', 'DET'), ('domineering', 'VERB'), ('businessman', 'NOUN'), ('and', 'CONJ'), ('a', 'DET'), ('television', 'NOUN'), ('personality', 'NOUN'), ('.', '.'), ('The', 'DET'), ('2018', 'NUM'), ('FIFA', 'NOUN'), ('World', 'NOUN'), ('Cup', 'NOUN'), ('is', 'VERB'), ('the', 'DET'), ('21st', 'NUM'), ('FIFA', 'NOUN'), ('World', 'NOUN'), ('Cup', 'NOUN'), (',', '.'), ('an', 'DET'), ('international', 'ADJ'), ('football', 'NOUN'), ('tournament', 'NOUN'), ('contested', 'VERB'), ('once', 'ADV'), ('every', 'DET'), ('four', 'NUM'), ('years', 'NOUN'), ('.', '.'), ('This', 'DET'), ('is', 'VERB'), ('the', 'DET'), ('first', 'ADJ'), ('World', 'NOUN'), ('Cup', 'NOUN'), ('to', 'PRT'), ('be', 'VERB'), ('held', 'VERB'), ('in', 'ADP'), ('Eastern', 'NOUN'), ('Europe', 'NOUN'), ('and', 'CONJ'), ('the', 'DET'), ('11th', 'ADJ'), ('time', 'NOUN'), ('that', 'ADP'), ('it', 'PRON'), ('has', 'VERB'), ('been', 'VERB'), ('held', 'VERB'), ('in', 'ADP'), ('Europe', 'NOUN'), ('.', '.'), ('Show', 'NOUN'), ('me', 'PRON'), ('the', 'DET'), ('cheapest', 'ADJ'), ('round', 'NOUN'), ('trips', 'NOUN'), ('from', 'ADP'), ('Dallas', 'NOUN'), ('to', 'PRT'), ('Atlanta', 'NOUN'), ('I', 'PRON'), ('would', 'VERB'), ('like', 'ADP'), ('to', 'PRT'), ('see', 'VERB'), ('flights', 'NOUN'), ('from', 'ADP'), ('Denver', 'NOUN'), ('to', 'PRT'), ('Philadelphia', 'NOUN'), ('.', '.'), ('Show', 'NOUN'), ('me', 'PRON'), ('the', 'DET'), ('price', 'NOUN'), ('of', 'ADP'), ('the', 'DET'), ('flights', 'NOUN'), ('leaving', 'VERB'), ('Atlanta', 'NOUN'), ('at', 'ADP'), ('about', 'ADP'), ('3', 'NUM'), ('in', 'ADP'), ('the', 'DET'), ('afternoon', 'NOUN'), ('and', 'CONJ'), ('arriving', 'VERB'), ('in', 'ADP'), ('San', 'NOUN'), ('Francisco', 'NOUN'), ('.', '.'), ('NASA', 'NOUN'), ('invited', 'VERB'), ('social', 'ADJ'), ('media', 'NOUN'), ('users', 'NOUN'), ('to', 'PRT'), ('experience', 'NOUN'), ('the', 'DET'), ('launch', 'NOUN'), ('of', 'ADP'), ('ICESAT-2', 'NOUN'), ('Satellite', 'NOUN'), ('.', '.')]\n"
     ]
    }
   ],
   "source": [
    "# Vanilla_Viterbi POS Tags:\n",
    "vanilla_viterbi_sample_test_tagged_sequence = Vanilla_Viterbi(sample_test_tagged_words)\n",
    "print(\"Tagging sequence with Vanilla_Viterbi:\\n\\n{}\".format(vanilla_viterbi_sample_test_tagged_sequence))\n",
    "\n",
    "print('*' * 100)\n",
    "print('Technique 1:')\n",
    "\n",
    "# Technique 1 - pos tags with Vanilla_Viterbi_for_Unknown_Words\n",
    "unknown_words_sample_test_tagged_sequence = Vanilla_Viterbi_for_Unknown_Words(sample_test_tagged_words)\n",
    "print(\"Tagging sequence with viterbi using only transition probability:\\n\\n{}\".format(unknown_words_sample_test_tagged_sequence))\n",
    "\n",
    "print('\\n')\n",
    "print('*' * 100)\n",
    "print('Technique 2:')\n",
    "\n",
    "# Technique 2 - pos tags with viterbi_backedup_by_trigram_tagger\n",
    "viterbi_trigram_sample_test_tagged_sequence = viterbi_backedup_by_trigram_tagger(sample_test_tagged_words)\n",
    "print(\"Tagging sequence with viterbi_backedup_by_trigram_tagger:\\n\\n{}\".format(viterbi_trigram_sample_test_tagged_sequence))"
   ]
  },
  {
   "cell_type": "markdown",
   "metadata": {},
   "source": [
    "#####  Let's summarise all the results in a Dataframe where collumns show \"Original Tags\", \"Vanilla Viterbi Tags\", \"Tags by Vanilla Viterbi for Unknown Words\" and \"Tags by Vanilla Viterbi Backed by Trigram Tagger\"."
   ]
  },
  {
   "cell_type": "code",
   "execution_count": 54,
   "metadata": {},
   "outputs": [
    {
     "data": {
      "text/html": [
       "<div>\n",
       "<style scoped>\n",
       "    .dataframe tbody tr th:only-of-type {\n",
       "        vertical-align: middle;\n",
       "    }\n",
       "\n",
       "    .dataframe tbody tr th {\n",
       "        vertical-align: top;\n",
       "    }\n",
       "\n",
       "    .dataframe thead th {\n",
       "        text-align: right;\n",
       "    }\n",
       "</style>\n",
       "<table border=\"1\" class=\"dataframe\">\n",
       "  <thead>\n",
       "    <tr style=\"text-align: right;\">\n",
       "      <th></th>\n",
       "      <th>Original_Tags</th>\n",
       "      <th>Vanilla_Viterbi_Tags</th>\n",
       "      <th>Unknown_Words_Vanilla_Viterbi_Tags</th>\n",
       "      <th>Vanilla_Viterbi_Tags_Backed_By_Trigram_Tagger</th>\n",
       "    </tr>\n",
       "  </thead>\n",
       "  <tbody>\n",
       "    <tr>\n",
       "      <th>0</th>\n",
       "      <td>(Android, NOUN)</td>\n",
       "      <td>(Android, DET)</td>\n",
       "      <td>(Android, NOUN)</td>\n",
       "      <td>(Android, NOUN)</td>\n",
       "    </tr>\n",
       "    <tr>\n",
       "      <th>8</th>\n",
       "      <td>(Google, NOUN)</td>\n",
       "      <td>(Google, DET)</td>\n",
       "      <td>(Google, DET)</td>\n",
       "      <td>(Google, NOUN)</td>\n",
       "    </tr>\n",
       "    <tr>\n",
       "      <th>10</th>\n",
       "      <td>(Android, NOUN)</td>\n",
       "      <td>(Android, DET)</td>\n",
       "      <td>(Android, NOUN)</td>\n",
       "      <td>(Android, NOUN)</td>\n",
       "    </tr>\n",
       "    <tr>\n",
       "      <th>15</th>\n",
       "      <td>(OS, NOUN)</td>\n",
       "      <td>(OS, DET)</td>\n",
       "      <td>(OS, NOUN)</td>\n",
       "      <td>(OS, NOUN)</td>\n",
       "    </tr>\n",
       "    <tr>\n",
       "      <th>16</th>\n",
       "      <td>(worldwide, NOUN)</td>\n",
       "      <td>(worldwide, DET)</td>\n",
       "      <td>(worldwide, NOUN)</td>\n",
       "      <td>(worldwide, NOUN)</td>\n",
       "    </tr>\n",
       "    <tr>\n",
       "      <th>18</th>\n",
       "      <td>(smartphones, NOUN)</td>\n",
       "      <td>(smartphones, DET)</td>\n",
       "      <td>(smartphones, DET)</td>\n",
       "      <td>(smartphones, VERB)</td>\n",
       "    </tr>\n",
       "    <tr>\n",
       "      <th>20</th>\n",
       "      <td>(2011, NUM)</td>\n",
       "      <td>(2011, DET)</td>\n",
       "      <td>(2011, DET)</td>\n",
       "      <td>(2011, NUM)</td>\n",
       "    </tr>\n",
       "    <tr>\n",
       "      <th>25</th>\n",
       "      <td>(2013, NUM)</td>\n",
       "      <td>(2013, DET)</td>\n",
       "      <td>(2013, DET)</td>\n",
       "      <td>(2013, NUM)</td>\n",
       "    </tr>\n",
       "    <tr>\n",
       "      <th>27</th>\n",
       "      <td>(Google, NOUN)</td>\n",
       "      <td>(Google, DET)</td>\n",
       "      <td>(Google, NOUN)</td>\n",
       "      <td>(Google, NOUN)</td>\n",
       "    </tr>\n",
       "    <tr>\n",
       "      <th>29</th>\n",
       "      <td>(Twitter, NOUN)</td>\n",
       "      <td>(Twitter, DET)</td>\n",
       "      <td>(Twitter, NOUN)</td>\n",
       "      <td>(Twitter, NOUN)</td>\n",
       "    </tr>\n",
       "    <tr>\n",
       "      <th>34</th>\n",
       "      <td>(2015, NUM)</td>\n",
       "      <td>(2015, DET)</td>\n",
       "      <td>(2015, DET)</td>\n",
       "      <td>(2015, NUM)</td>\n",
       "    </tr>\n",
       "    <tr>\n",
       "      <th>37</th>\n",
       "      <td>(Google, NOUN)</td>\n",
       "      <td>(Google, DET)</td>\n",
       "      <td>(Google, X)</td>\n",
       "      <td>(Google, NOUN)</td>\n",
       "    </tr>\n",
       "    <tr>\n",
       "      <th>40</th>\n",
       "      <td>(Twitter, NOUN)</td>\n",
       "      <td>(Twitter, DET)</td>\n",
       "      <td>(Twitter, VERB)</td>\n",
       "      <td>(Twitter, NOUN)</td>\n",
       "    </tr>\n",
       "    <tr>\n",
       "      <th>41</th>\n",
       "      <td>('s, PRT)</td>\n",
       "      <td>('s, VERB)</td>\n",
       "      <td>('s, PRT)</td>\n",
       "      <td>('s, PRT)</td>\n",
       "    </tr>\n",
       "    <tr>\n",
       "      <th>42</th>\n",
       "      <td>(firehose, NOUN)</td>\n",
       "      <td>(firehose, DET)</td>\n",
       "      <td>(firehose, VERB)</td>\n",
       "      <td>(firehose, NOUN)</td>\n",
       "    </tr>\n",
       "    <tr>\n",
       "      <th>44</th>\n",
       "      <td>(Twitter, NOUN)</td>\n",
       "      <td>(Twitter, DET)</td>\n",
       "      <td>(Twitter, NOUN)</td>\n",
       "      <td>(Twitter, NOUN)</td>\n",
       "    </tr>\n",
       "    <tr>\n",
       "      <th>47</th>\n",
       "      <td>(online, ADJ)</td>\n",
       "      <td>(online, DET)</td>\n",
       "      <td>(online, NOUN)</td>\n",
       "      <td>(online, NOUN)</td>\n",
       "    </tr>\n",
       "    <tr>\n",
       "      <th>58</th>\n",
       "      <td>(interact, NOUN)</td>\n",
       "      <td>(interact, DET)</td>\n",
       "      <td>(interact, NOUN)</td>\n",
       "      <td>(interact, NOUN)</td>\n",
       "    </tr>\n",
       "    <tr>\n",
       "      <th>60</th>\n",
       "      <td>(messages, NOUN)</td>\n",
       "      <td>(messages, DET)</td>\n",
       "      <td>(messages, DET)</td>\n",
       "      <td>(messages, VERB)</td>\n",
       "    </tr>\n",
       "    <tr>\n",
       "      <th>63</th>\n",
       "      <td>(tweets, NOUN)</td>\n",
       "      <td>(tweets, DET)</td>\n",
       "      <td>(tweets, DET)</td>\n",
       "      <td>(tweets, NOUN)</td>\n",
       "    </tr>\n",
       "    <tr>\n",
       "      <th>73</th>\n",
       "      <td>(domineering, ADJ)</td>\n",
       "      <td>(domineering, DET)</td>\n",
       "      <td>(domineering, NOUN)</td>\n",
       "      <td>(domineering, VERB)</td>\n",
       "    </tr>\n",
       "    <tr>\n",
       "      <th>78</th>\n",
       "      <td>(personality, NOUN)</td>\n",
       "      <td>(personality, DET)</td>\n",
       "      <td>(personality, NOUN)</td>\n",
       "      <td>(personality, NOUN)</td>\n",
       "    </tr>\n",
       "    <tr>\n",
       "      <th>81</th>\n",
       "      <td>(2018, NUM)</td>\n",
       "      <td>(2018, DET)</td>\n",
       "      <td>(2018, NOUN)</td>\n",
       "      <td>(2018, NUM)</td>\n",
       "    </tr>\n",
       "    <tr>\n",
       "      <th>82</th>\n",
       "      <td>(FIFA, NOUN)</td>\n",
       "      <td>(FIFA, DET)</td>\n",
       "      <td>(FIFA, NOUN)</td>\n",
       "      <td>(FIFA, NOUN)</td>\n",
       "    </tr>\n",
       "    <tr>\n",
       "      <th>84</th>\n",
       "      <td>(Cup, NOUN)</td>\n",
       "      <td>(Cup, DET)</td>\n",
       "      <td>(Cup, NOUN)</td>\n",
       "      <td>(Cup, NOUN)</td>\n",
       "    </tr>\n",
       "    <tr>\n",
       "      <th>87</th>\n",
       "      <td>(21st, NUM)</td>\n",
       "      <td>(21st, DET)</td>\n",
       "      <td>(21st, NOUN)</td>\n",
       "      <td>(21st, NUM)</td>\n",
       "    </tr>\n",
       "    <tr>\n",
       "      <th>88</th>\n",
       "      <td>(FIFA, NOUN)</td>\n",
       "      <td>(FIFA, DET)</td>\n",
       "      <td>(FIFA, NOUN)</td>\n",
       "      <td>(FIFA, NOUN)</td>\n",
       "    </tr>\n",
       "    <tr>\n",
       "      <th>90</th>\n",
       "      <td>(Cup, NOUN)</td>\n",
       "      <td>(Cup, DET)</td>\n",
       "      <td>(Cup, NOUN)</td>\n",
       "      <td>(Cup, NOUN)</td>\n",
       "    </tr>\n",
       "    <tr>\n",
       "      <th>95</th>\n",
       "      <td>(tournament, NOUN)</td>\n",
       "      <td>(tournament, DET)</td>\n",
       "      <td>(tournament, NOUN)</td>\n",
       "      <td>(tournament, NOUN)</td>\n",
       "    </tr>\n",
       "    <tr>\n",
       "      <th>96</th>\n",
       "      <td>(contested, VERB)</td>\n",
       "      <td>(contested, DET)</td>\n",
       "      <td>(contested, NOUN)</td>\n",
       "      <td>(contested, VERB)</td>\n",
       "    </tr>\n",
       "    <tr>\n",
       "      <th>107</th>\n",
       "      <td>(Cup, NOUN)</td>\n",
       "      <td>(Cup, DET)</td>\n",
       "      <td>(Cup, NOUN)</td>\n",
       "      <td>(Cup, NOUN)</td>\n",
       "    </tr>\n",
       "    <tr>\n",
       "      <th>131</th>\n",
       "      <td>(trips, NOUN)</td>\n",
       "      <td>(trips, DET)</td>\n",
       "      <td>(trips, NOUN)</td>\n",
       "      <td>(trips, NOUN)</td>\n",
       "    </tr>\n",
       "    <tr>\n",
       "      <th>163</th>\n",
       "      <td>(arriving, NOUN)</td>\n",
       "      <td>(arriving, DET)</td>\n",
       "      <td>(arriving, NOUN)</td>\n",
       "      <td>(arriving, VERB)</td>\n",
       "    </tr>\n",
       "    <tr>\n",
       "      <th>168</th>\n",
       "      <td>(NASA, NOUN)</td>\n",
       "      <td>(NASA, DET)</td>\n",
       "      <td>(NASA, NOUN)</td>\n",
       "      <td>(NASA, NOUN)</td>\n",
       "    </tr>\n",
       "    <tr>\n",
       "      <th>169</th>\n",
       "      <td>(invited, VERB)</td>\n",
       "      <td>(invited, DET)</td>\n",
       "      <td>(invited, NOUN)</td>\n",
       "      <td>(invited, VERB)</td>\n",
       "    </tr>\n",
       "    <tr>\n",
       "      <th>178</th>\n",
       "      <td>(ICESAT-2, NOUN)</td>\n",
       "      <td>(ICESAT-2, DET)</td>\n",
       "      <td>(ICESAT-2, DET)</td>\n",
       "      <td>(ICESAT-2, NOUN)</td>\n",
       "    </tr>\n",
       "    <tr>\n",
       "      <th>179</th>\n",
       "      <td>(Satellite, NOUN)</td>\n",
       "      <td>(Satellite, DET)</td>\n",
       "      <td>(Satellite, NOUN)</td>\n",
       "      <td>(Satellite, NOUN)</td>\n",
       "    </tr>\n",
       "  </tbody>\n",
       "</table>\n",
       "</div>"
      ],
      "text/plain": [
       "           Original_Tags Vanilla_Viterbi_Tags  \\\n",
       "0        (Android, NOUN)       (Android, DET)   \n",
       "8         (Google, NOUN)        (Google, DET)   \n",
       "10       (Android, NOUN)       (Android, DET)   \n",
       "15            (OS, NOUN)            (OS, DET)   \n",
       "16     (worldwide, NOUN)     (worldwide, DET)   \n",
       "18   (smartphones, NOUN)   (smartphones, DET)   \n",
       "20           (2011, NUM)          (2011, DET)   \n",
       "25           (2013, NUM)          (2013, DET)   \n",
       "27        (Google, NOUN)        (Google, DET)   \n",
       "29       (Twitter, NOUN)       (Twitter, DET)   \n",
       "34           (2015, NUM)          (2015, DET)   \n",
       "37        (Google, NOUN)        (Google, DET)   \n",
       "40       (Twitter, NOUN)       (Twitter, DET)   \n",
       "41             ('s, PRT)           ('s, VERB)   \n",
       "42      (firehose, NOUN)      (firehose, DET)   \n",
       "44       (Twitter, NOUN)       (Twitter, DET)   \n",
       "47         (online, ADJ)        (online, DET)   \n",
       "58      (interact, NOUN)      (interact, DET)   \n",
       "60      (messages, NOUN)      (messages, DET)   \n",
       "63        (tweets, NOUN)        (tweets, DET)   \n",
       "73    (domineering, ADJ)   (domineering, DET)   \n",
       "78   (personality, NOUN)   (personality, DET)   \n",
       "81           (2018, NUM)          (2018, DET)   \n",
       "82          (FIFA, NOUN)          (FIFA, DET)   \n",
       "84           (Cup, NOUN)           (Cup, DET)   \n",
       "87           (21st, NUM)          (21st, DET)   \n",
       "88          (FIFA, NOUN)          (FIFA, DET)   \n",
       "90           (Cup, NOUN)           (Cup, DET)   \n",
       "95    (tournament, NOUN)    (tournament, DET)   \n",
       "96     (contested, VERB)     (contested, DET)   \n",
       "107          (Cup, NOUN)           (Cup, DET)   \n",
       "131        (trips, NOUN)         (trips, DET)   \n",
       "163     (arriving, NOUN)      (arriving, DET)   \n",
       "168         (NASA, NOUN)          (NASA, DET)   \n",
       "169      (invited, VERB)       (invited, DET)   \n",
       "178     (ICESAT-2, NOUN)      (ICESAT-2, DET)   \n",
       "179    (Satellite, NOUN)     (Satellite, DET)   \n",
       "\n",
       "    Unknown_Words_Vanilla_Viterbi_Tags  \\\n",
       "0                      (Android, NOUN)   \n",
       "8                        (Google, DET)   \n",
       "10                     (Android, NOUN)   \n",
       "15                          (OS, NOUN)   \n",
       "16                   (worldwide, NOUN)   \n",
       "18                  (smartphones, DET)   \n",
       "20                         (2011, DET)   \n",
       "25                         (2013, DET)   \n",
       "27                      (Google, NOUN)   \n",
       "29                     (Twitter, NOUN)   \n",
       "34                         (2015, DET)   \n",
       "37                         (Google, X)   \n",
       "40                     (Twitter, VERB)   \n",
       "41                           ('s, PRT)   \n",
       "42                    (firehose, VERB)   \n",
       "44                     (Twitter, NOUN)   \n",
       "47                      (online, NOUN)   \n",
       "58                    (interact, NOUN)   \n",
       "60                     (messages, DET)   \n",
       "63                       (tweets, DET)   \n",
       "73                 (domineering, NOUN)   \n",
       "78                 (personality, NOUN)   \n",
       "81                        (2018, NOUN)   \n",
       "82                        (FIFA, NOUN)   \n",
       "84                         (Cup, NOUN)   \n",
       "87                        (21st, NOUN)   \n",
       "88                        (FIFA, NOUN)   \n",
       "90                         (Cup, NOUN)   \n",
       "95                  (tournament, NOUN)   \n",
       "96                   (contested, NOUN)   \n",
       "107                        (Cup, NOUN)   \n",
       "131                      (trips, NOUN)   \n",
       "163                   (arriving, NOUN)   \n",
       "168                       (NASA, NOUN)   \n",
       "169                    (invited, NOUN)   \n",
       "178                    (ICESAT-2, DET)   \n",
       "179                  (Satellite, NOUN)   \n",
       "\n",
       "    Vanilla_Viterbi_Tags_Backed_By_Trigram_Tagger  \n",
       "0                                 (Android, NOUN)  \n",
       "8                                  (Google, NOUN)  \n",
       "10                                (Android, NOUN)  \n",
       "15                                     (OS, NOUN)  \n",
       "16                              (worldwide, NOUN)  \n",
       "18                            (smartphones, VERB)  \n",
       "20                                    (2011, NUM)  \n",
       "25                                    (2013, NUM)  \n",
       "27                                 (Google, NOUN)  \n",
       "29                                (Twitter, NOUN)  \n",
       "34                                    (2015, NUM)  \n",
       "37                                 (Google, NOUN)  \n",
       "40                                (Twitter, NOUN)  \n",
       "41                                      ('s, PRT)  \n",
       "42                               (firehose, NOUN)  \n",
       "44                                (Twitter, NOUN)  \n",
       "47                                 (online, NOUN)  \n",
       "58                               (interact, NOUN)  \n",
       "60                               (messages, VERB)  \n",
       "63                                 (tweets, NOUN)  \n",
       "73                            (domineering, VERB)  \n",
       "78                            (personality, NOUN)  \n",
       "81                                    (2018, NUM)  \n",
       "82                                   (FIFA, NOUN)  \n",
       "84                                    (Cup, NOUN)  \n",
       "87                                    (21st, NUM)  \n",
       "88                                   (FIFA, NOUN)  \n",
       "90                                    (Cup, NOUN)  \n",
       "95                             (tournament, NOUN)  \n",
       "96                              (contested, VERB)  \n",
       "107                                   (Cup, NOUN)  \n",
       "131                                 (trips, NOUN)  \n",
       "163                              (arriving, VERB)  \n",
       "168                                  (NASA, NOUN)  \n",
       "169                               (invited, VERB)  \n",
       "178                              (ICESAT-2, NOUN)  \n",
       "179                             (Satellite, NOUN)  "
      ]
     },
     "execution_count": 54,
     "metadata": {},
     "output_type": "execute_result"
    }
   ],
   "source": [
    "tags_df = pd.DataFrame(columns = ['Original_Tags', 'Vanilla_Viterbi_Tags', 'Unknown_Words_Vanilla_Viterbi_Tags',\n",
    "            'Vanilla_Viterbi_Tags_Backed_By_Trigram_Tagger'])\n",
    "tags_df = tags_df.fillna(0)\n",
    "\n",
    "# Original tags\n",
    "tags_df['Original_Tags'] = [x for x in sample_test_word_tag]\n",
    "\n",
    "# tags by vanilla viterbi\n",
    "tags_df['Vanilla_Viterbi_Tags'] = [x for x in vanilla_viterbi_sample_test_tagged_sequence]\n",
    "\n",
    "# tags by Vanilla_Viterbi_for_Unknown_Words - Technique - 1\n",
    "tags_df['Unknown_Words_Vanilla_Viterbi_Tags'] = [x for x in unknown_words_sample_test_tagged_sequence]\n",
    "\n",
    "# tags by viterbi_backedup_by_trigram_tagger - Technique - 2\n",
    "tags_df['Vanilla_Viterbi_Tags_Backed_By_Trigram_Tagger'] = [x for x in viterbi_trigram_sample_test_tagged_sequence]\n",
    "\n",
    "tags_df[tags_df['Vanilla_Viterbi_Tags'] != tags_df['Vanilla_Viterbi_Tags_Backed_By_Trigram_Tagger']]"
   ]
  },
  {
   "cell_type": "markdown",
   "metadata": {},
   "source": [
    "### Final Conclusion:"
   ]
  },
  {
   "cell_type": "markdown",
   "metadata": {},
   "source": [
    "Vanilla Viterbi Algorithm produced many wrongly tagged words. Those words are smartly corrected by the Viterbi Algorithm Backed Up By The Trigram Tagger. \n",
    "\n",
    "Below 2 techniques we used in this assignment:<br>\n",
    "<br>\n",
    "\n",
    "**Technique 1:**\n",
    "- As a first approach, we used only the transition probability for unknown words.\n",
    "- This technique has improved the accuracy but still had some incorrect tags.\n",
    "- To improve the accuracy further, we have used a 2nd technique.\n",
    "    \n",
    "**Technique 2:** \n",
    "- As a second approach, we used the Viterbi Algorithm and Backed it up with the Trigram tagger which was backed up by the rule based \n",
    "    regex tagger.\n",
    "- This gave us an accuracy of ~94% on the test data.\n",
    "- Tested this model with the provided sample test data and found the accuracy around ~93%.\n",
    "- So, it is recommended to use this algo for better results."
   ]
  },
  {
   "cell_type": "code",
   "execution_count": null,
   "metadata": {},
   "outputs": [],
   "source": []
  }
 ],
 "metadata": {
  "kernelspec": {
   "display_name": "Python 3",
   "language": "python",
   "name": "python3"
  },
  "language_info": {
   "codemirror_mode": {
    "name": "ipython",
    "version": 3
   },
   "file_extension": ".py",
   "mimetype": "text/x-python",
   "name": "python",
   "nbconvert_exporter": "python",
   "pygments_lexer": "ipython3",
   "version": "3.7.0"
  }
 },
 "nbformat": 4,
 "nbformat_minor": 2
}
